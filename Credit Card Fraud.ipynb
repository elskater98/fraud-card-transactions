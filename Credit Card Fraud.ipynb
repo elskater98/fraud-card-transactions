{
 "cells": [
  {
   "cell_type": "code",
   "execution_count": 61,
   "id": "e25ad0e1",
   "metadata": {},
   "outputs": [],
   "source": [
    "# Libraries\n",
    "import kaggle\n",
    "import os\n",
    "import pandas as pd\n",
    "import plotly.express as px\n",
    "import numpy as np"
   ]
  },
  {
   "cell_type": "code",
   "execution_count": 65,
   "id": "0633ef50",
   "metadata": {},
   "outputs": [],
   "source": [
    "# Additional settings\n",
    "pd.set_option('display.max_columns', None)\n",
    "pd.set_option('display.max_rows', 25)"
   ]
  },
  {
   "cell_type": "code",
   "execution_count": 3,
   "id": "399206ef",
   "metadata": {},
   "outputs": [],
   "source": [
    "# Download Dataset using Kaggle API Key\n",
    "# Requirements: Kaggle API key\n",
    "if not os.path.isfile(\"data/fraudTrain.csv\") or not os.path.isfile(\"data/fraudTest.csv\"):\n",
    "    kaggle.api.authenticate()\n",
    "    kaggle.api.dataset_download_files('kartik2112/fraud-detection', path='./data', unzip=True)"
   ]
  },
  {
   "cell_type": "code",
   "execution_count": 4,
   "id": "94aa7a36",
   "metadata": {},
   "outputs": [],
   "source": [
    "# Dataset Analysis\n",
    "df_train = pd.read_csv('data/fraudTrain.csv', index_col=0)\n",
    "df_test = pd.read_csv('data/fraudTest.csv', index_col=0)"
   ]
  },
  {
   "cell_type": "code",
   "execution_count": 5,
   "id": "a5f88212",
   "metadata": {},
   "outputs": [
    {
     "name": "stdout",
     "output_type": "stream",
     "text": [
      "<class 'pandas.core.frame.DataFrame'>\n",
      "Int64Index: 1296675 entries, 0 to 1296674\n",
      "Data columns (total 22 columns):\n",
      " #   Column                 Non-Null Count    Dtype  \n",
      "---  ------                 --------------    -----  \n",
      " 0   trans_date_trans_time  1296675 non-null  object \n",
      " 1   cc_num                 1296675 non-null  int64  \n",
      " 2   merchant               1296675 non-null  object \n",
      " 3   category               1296675 non-null  object \n",
      " 4   amt                    1296675 non-null  float64\n",
      " 5   first                  1296675 non-null  object \n",
      " 6   last                   1296675 non-null  object \n",
      " 7   gender                 1296675 non-null  object \n",
      " 8   street                 1296675 non-null  object \n",
      " 9   city                   1296675 non-null  object \n",
      " 10  state                  1296675 non-null  object \n",
      " 11  zip                    1296675 non-null  int64  \n",
      " 12  lat                    1296675 non-null  float64\n",
      " 13  long                   1296675 non-null  float64\n",
      " 14  city_pop               1296675 non-null  int64  \n",
      " 15  job                    1296675 non-null  object \n",
      " 16  dob                    1296675 non-null  object \n",
      " 17  trans_num              1296675 non-null  object \n",
      " 18  unix_time              1296675 non-null  int64  \n",
      " 19  merch_lat              1296675 non-null  float64\n",
      " 20  merch_long             1296675 non-null  float64\n",
      " 21  is_fraud               1296675 non-null  int64  \n",
      "dtypes: float64(5), int64(5), object(12)\n",
      "memory usage: 227.5+ MB\n"
     ]
    }
   ],
   "source": [
    "df_train.info()"
   ]
  },
  {
   "cell_type": "code",
   "execution_count": 6,
   "id": "0f080bc9",
   "metadata": {},
   "outputs": [
    {
     "data": {
      "text/html": [
       "<div>\n",
       "<style scoped>\n",
       "    .dataframe tbody tr th:only-of-type {\n",
       "        vertical-align: middle;\n",
       "    }\n",
       "\n",
       "    .dataframe tbody tr th {\n",
       "        vertical-align: top;\n",
       "    }\n",
       "\n",
       "    .dataframe thead th {\n",
       "        text-align: right;\n",
       "    }\n",
       "</style>\n",
       "<table border=\"1\" class=\"dataframe\">\n",
       "  <thead>\n",
       "    <tr style=\"text-align: right;\">\n",
       "      <th></th>\n",
       "      <th>trans_date_trans_time</th>\n",
       "      <th>cc_num</th>\n",
       "      <th>merchant</th>\n",
       "      <th>category</th>\n",
       "      <th>amt</th>\n",
       "      <th>first</th>\n",
       "      <th>last</th>\n",
       "      <th>gender</th>\n",
       "      <th>street</th>\n",
       "      <th>city</th>\n",
       "      <th>state</th>\n",
       "      <th>zip</th>\n",
       "      <th>lat</th>\n",
       "      <th>long</th>\n",
       "      <th>city_pop</th>\n",
       "      <th>job</th>\n",
       "      <th>dob</th>\n",
       "      <th>trans_num</th>\n",
       "      <th>unix_time</th>\n",
       "      <th>merch_lat</th>\n",
       "      <th>merch_long</th>\n",
       "      <th>is_fraud</th>\n",
       "    </tr>\n",
       "  </thead>\n",
       "  <tbody>\n",
       "    <tr>\n",
       "      <th>0</th>\n",
       "      <td>2019-01-01 00:00:18</td>\n",
       "      <td>2703186189652095</td>\n",
       "      <td>fraud_Rippin, Kub and Mann</td>\n",
       "      <td>misc_net</td>\n",
       "      <td>4.97</td>\n",
       "      <td>Jennifer</td>\n",
       "      <td>Banks</td>\n",
       "      <td>F</td>\n",
       "      <td>561 Perry Cove</td>\n",
       "      <td>Moravian Falls</td>\n",
       "      <td>NC</td>\n",
       "      <td>28654</td>\n",
       "      <td>36.0788</td>\n",
       "      <td>-81.1781</td>\n",
       "      <td>3495</td>\n",
       "      <td>Psychologist, counselling</td>\n",
       "      <td>1988-03-09</td>\n",
       "      <td>0b242abb623afc578575680df30655b9</td>\n",
       "      <td>1325376018</td>\n",
       "      <td>36.011293</td>\n",
       "      <td>-82.048315</td>\n",
       "      <td>0</td>\n",
       "    </tr>\n",
       "    <tr>\n",
       "      <th>1</th>\n",
       "      <td>2019-01-01 00:00:44</td>\n",
       "      <td>630423337322</td>\n",
       "      <td>fraud_Heller, Gutmann and Zieme</td>\n",
       "      <td>grocery_pos</td>\n",
       "      <td>107.23</td>\n",
       "      <td>Stephanie</td>\n",
       "      <td>Gill</td>\n",
       "      <td>F</td>\n",
       "      <td>43039 Riley Greens Suite 393</td>\n",
       "      <td>Orient</td>\n",
       "      <td>WA</td>\n",
       "      <td>99160</td>\n",
       "      <td>48.8878</td>\n",
       "      <td>-118.2105</td>\n",
       "      <td>149</td>\n",
       "      <td>Special educational needs teacher</td>\n",
       "      <td>1978-06-21</td>\n",
       "      <td>1f76529f8574734946361c461b024d99</td>\n",
       "      <td>1325376044</td>\n",
       "      <td>49.159047</td>\n",
       "      <td>-118.186462</td>\n",
       "      <td>0</td>\n",
       "    </tr>\n",
       "    <tr>\n",
       "      <th>2</th>\n",
       "      <td>2019-01-01 00:00:51</td>\n",
       "      <td>38859492057661</td>\n",
       "      <td>fraud_Lind-Buckridge</td>\n",
       "      <td>entertainment</td>\n",
       "      <td>220.11</td>\n",
       "      <td>Edward</td>\n",
       "      <td>Sanchez</td>\n",
       "      <td>M</td>\n",
       "      <td>594 White Dale Suite 530</td>\n",
       "      <td>Malad City</td>\n",
       "      <td>ID</td>\n",
       "      <td>83252</td>\n",
       "      <td>42.1808</td>\n",
       "      <td>-112.2620</td>\n",
       "      <td>4154</td>\n",
       "      <td>Nature conservation officer</td>\n",
       "      <td>1962-01-19</td>\n",
       "      <td>a1a22d70485983eac12b5b88dad1cf95</td>\n",
       "      <td>1325376051</td>\n",
       "      <td>43.150704</td>\n",
       "      <td>-112.154481</td>\n",
       "      <td>0</td>\n",
       "    </tr>\n",
       "    <tr>\n",
       "      <th>3</th>\n",
       "      <td>2019-01-01 00:01:16</td>\n",
       "      <td>3534093764340240</td>\n",
       "      <td>fraud_Kutch, Hermiston and Farrell</td>\n",
       "      <td>gas_transport</td>\n",
       "      <td>45.00</td>\n",
       "      <td>Jeremy</td>\n",
       "      <td>White</td>\n",
       "      <td>M</td>\n",
       "      <td>9443 Cynthia Court Apt. 038</td>\n",
       "      <td>Boulder</td>\n",
       "      <td>MT</td>\n",
       "      <td>59632</td>\n",
       "      <td>46.2306</td>\n",
       "      <td>-112.1138</td>\n",
       "      <td>1939</td>\n",
       "      <td>Patent attorney</td>\n",
       "      <td>1967-01-12</td>\n",
       "      <td>6b849c168bdad6f867558c3793159a81</td>\n",
       "      <td>1325376076</td>\n",
       "      <td>47.034331</td>\n",
       "      <td>-112.561071</td>\n",
       "      <td>0</td>\n",
       "    </tr>\n",
       "    <tr>\n",
       "      <th>4</th>\n",
       "      <td>2019-01-01 00:03:06</td>\n",
       "      <td>375534208663984</td>\n",
       "      <td>fraud_Keeling-Crist</td>\n",
       "      <td>misc_pos</td>\n",
       "      <td>41.96</td>\n",
       "      <td>Tyler</td>\n",
       "      <td>Garcia</td>\n",
       "      <td>M</td>\n",
       "      <td>408 Bradley Rest</td>\n",
       "      <td>Doe Hill</td>\n",
       "      <td>VA</td>\n",
       "      <td>24433</td>\n",
       "      <td>38.4207</td>\n",
       "      <td>-79.4629</td>\n",
       "      <td>99</td>\n",
       "      <td>Dance movement psychotherapist</td>\n",
       "      <td>1986-03-28</td>\n",
       "      <td>a41d7549acf90789359a9aa5346dcb46</td>\n",
       "      <td>1325376186</td>\n",
       "      <td>38.674999</td>\n",
       "      <td>-78.632459</td>\n",
       "      <td>0</td>\n",
       "    </tr>\n",
       "  </tbody>\n",
       "</table>\n",
       "</div>"
      ],
      "text/plain": [
       "  trans_date_trans_time            cc_num                            merchant  \\\n",
       "0   2019-01-01 00:00:18  2703186189652095          fraud_Rippin, Kub and Mann   \n",
       "1   2019-01-01 00:00:44      630423337322     fraud_Heller, Gutmann and Zieme   \n",
       "2   2019-01-01 00:00:51    38859492057661                fraud_Lind-Buckridge   \n",
       "3   2019-01-01 00:01:16  3534093764340240  fraud_Kutch, Hermiston and Farrell   \n",
       "4   2019-01-01 00:03:06   375534208663984                 fraud_Keeling-Crist   \n",
       "\n",
       "        category     amt      first     last gender  \\\n",
       "0       misc_net    4.97   Jennifer    Banks      F   \n",
       "1    grocery_pos  107.23  Stephanie     Gill      F   \n",
       "2  entertainment  220.11     Edward  Sanchez      M   \n",
       "3  gas_transport   45.00     Jeremy    White      M   \n",
       "4       misc_pos   41.96      Tyler   Garcia      M   \n",
       "\n",
       "                         street            city state    zip      lat  \\\n",
       "0                561 Perry Cove  Moravian Falls    NC  28654  36.0788   \n",
       "1  43039 Riley Greens Suite 393          Orient    WA  99160  48.8878   \n",
       "2      594 White Dale Suite 530      Malad City    ID  83252  42.1808   \n",
       "3   9443 Cynthia Court Apt. 038         Boulder    MT  59632  46.2306   \n",
       "4              408 Bradley Rest        Doe Hill    VA  24433  38.4207   \n",
       "\n",
       "       long  city_pop                                job         dob  \\\n",
       "0  -81.1781      3495          Psychologist, counselling  1988-03-09   \n",
       "1 -118.2105       149  Special educational needs teacher  1978-06-21   \n",
       "2 -112.2620      4154        Nature conservation officer  1962-01-19   \n",
       "3 -112.1138      1939                    Patent attorney  1967-01-12   \n",
       "4  -79.4629        99     Dance movement psychotherapist  1986-03-28   \n",
       "\n",
       "                          trans_num   unix_time  merch_lat  merch_long  \\\n",
       "0  0b242abb623afc578575680df30655b9  1325376018  36.011293  -82.048315   \n",
       "1  1f76529f8574734946361c461b024d99  1325376044  49.159047 -118.186462   \n",
       "2  a1a22d70485983eac12b5b88dad1cf95  1325376051  43.150704 -112.154481   \n",
       "3  6b849c168bdad6f867558c3793159a81  1325376076  47.034331 -112.561071   \n",
       "4  a41d7549acf90789359a9aa5346dcb46  1325376186  38.674999  -78.632459   \n",
       "\n",
       "   is_fraud  \n",
       "0         0  \n",
       "1         0  \n",
       "2         0  \n",
       "3         0  \n",
       "4         0  "
      ]
     },
     "execution_count": 6,
     "metadata": {},
     "output_type": "execute_result"
    }
   ],
   "source": [
    "df_train.head(5)"
   ]
  },
  {
   "cell_type": "code",
   "execution_count": 7,
   "id": "96cde852",
   "metadata": {},
   "outputs": [
    {
     "data": {
      "text/plain": [
       "trans_date_trans_time    0\n",
       "cc_num                   0\n",
       "merchant                 0\n",
       "category                 0\n",
       "amt                      0\n",
       "first                    0\n",
       "last                     0\n",
       "gender                   0\n",
       "street                   0\n",
       "city                     0\n",
       "state                    0\n",
       "zip                      0\n",
       "lat                      0\n",
       "long                     0\n",
       "city_pop                 0\n",
       "job                      0\n",
       "dob                      0\n",
       "trans_num                0\n",
       "unix_time                0\n",
       "merch_lat                0\n",
       "merch_long               0\n",
       "is_fraud                 0\n",
       "dtype: int64"
      ]
     },
     "execution_count": 7,
     "metadata": {},
     "output_type": "execute_result"
    }
   ],
   "source": [
    "# Check missing values\n",
    "# We don't need to impute the data because we don't have missing values\n",
    "df_train.isnull().sum()"
   ]
  },
  {
   "cell_type": "code",
   "execution_count": 8,
   "id": "1a671f1b",
   "metadata": {},
   "outputs": [
    {
     "data": {
      "text/plain": [
       "trans_date_trans_time    1274791\n",
       "cc_num                       983\n",
       "merchant                     693\n",
       "category                      14\n",
       "amt                        52928\n",
       "first                        352\n",
       "last                         481\n",
       "gender                         2\n",
       "street                       983\n",
       "city                         894\n",
       "state                         51\n",
       "zip                          970\n",
       "lat                          968\n",
       "long                         969\n",
       "city_pop                     879\n",
       "job                          494\n",
       "dob                          968\n",
       "trans_num                1296675\n",
       "unix_time                1274823\n",
       "merch_lat                1247805\n",
       "merch_long               1275745\n",
       "is_fraud                       2\n",
       "dtype: int64"
      ]
     },
     "execution_count": 8,
     "metadata": {},
     "output_type": "execute_result"
    }
   ],
   "source": [
    "# Unique Val\n",
    "df_train.nunique()"
   ]
  },
  {
   "cell_type": "code",
   "execution_count": 31,
   "id": "3b9877c9",
   "metadata": {},
   "outputs": [
    {
     "name": "stdout",
     "output_type": "stream",
     "text": [
      " Not Fraud (0) 99.42%\n",
      " Is Fraud (1) 0.58%\n",
      "\n"
     ]
    },
    {
     "data": {
      "text/plain": [
       "<AxesSubplot:>"
      ]
     },
     "execution_count": 31,
     "metadata": {},
     "output_type": "execute_result"
    },
    {
     "data": {
      "image/png": "[encoded data removed]",
      "text/plain": [
       "<Figure size 432x288 with 1 Axes>"
      ]
     },
     "metadata": {
      "needs_background": "light"
     },
     "output_type": "display_data"
    }
   ],
   "source": [
    "# Target Balance\n",
    "target_count = df_train['is_fraud'].value_counts()\n",
    "not_fraud, is_fraud = target_count[0], target_count[1]\n",
    "\n",
    "print(f\" Not Fraud (0) { round(not_fraud * 100 / sum(target_count),2)}%\\n Is Fraud (1) {round(is_fraud * 100 / sum(target_count),2)}%\\n\")\n",
    "\n",
    "target_count.plot(kind=\"bar\")"
   ]
  },
  {
   "cell_type": "code",
   "execution_count": 18,
   "id": "04b80274",
   "metadata": {},
   "outputs": [
    {
     "data": {
      "application/vnd.plotly.v1+json": {
       "config": {
        "plotlyServerURL": "https://plot.ly"
       },
       "data": [
        {
         "coloraxis": "coloraxis",
         "hovertemplate": "x: %{x}<br>y: %{y}<br>color: %{z}<extra></extra>",
         "name": "0",
         "type": "heatmap",
         "x": [
          "cc_num",
          "amt",
          "zip",
          "lat",
          "long",
          "city_pop",
          "unix_time",
          "merch_lat",
          "merch_long",
          "is_fraud"
         ],
         "xaxis": "x",
         "y": [
          "cc_num",
          "amt",
          "zip",
          "lat",
          "long",
          "city_pop",
          "unix_time",
          "merch_lat",
          "merch_long",
          "is_fraud"
         ],
         "yaxis": "y",
         "z": [
          [
           1,
           0,
           0.04,
           -0.06,
           -0.05,
           -0.01,
           0,
           -0.06,
           -0.05,
           0
          ],
          [
           0,
           1,
           0,
           0,
           0,
           0.01,
           0,
           0,
           0,
           0.22
          ],
          [
           0.04,
           0,
           1,
           -0.11,
           -0.91,
           0.08,
           0,
           -0.11,
           -0.91,
           0
          ],
          [
           -0.06,
           0,
           -0.11,
           1,
           -0.02,
           -0.16,
           0,
           0.99,
           -0.02,
           0
          ],
          [
           -0.05,
           0,
           -0.91,
           -0.02,
           1,
           -0.05,
           0,
           -0.02,
           1,
           0
          ],
          [
           -0.01,
           0.01,
           0.08,
           -0.16,
           -0.05,
           1,
           0,
           -0.15,
           -0.05,
           0
          ],
          [
           0,
           0,
           0,
           0,
           0,
           0,
           1,
           0,
           0,
           -0.01
          ],
          [
           -0.06,
           0,
           -0.11,
           0.99,
           -0.02,
           -0.15,
           0,
           1,
           -0.02,
           0
          ],
          [
           -0.05,
           0,
           -0.91,
           -0.02,
           1,
           -0.05,
           0,
           -0.02,
           1,
           0
          ],
          [
           0,
           0.22,
           0,
           0,
           0,
           0,
           -0.01,
           0,
           0,
           1
          ]
         ]
        }
       ],
       "layout": {
        "coloraxis": {
         "colorscale": [
          [
           0,
           "#0d0887"
          ],
          [
           0.1111111111111111,
           "#46039f"
          ],
          [
           0.2222222222222222,
           "#7201a8"
          ],
          [
           0.3333333333333333,
           "#9c179e"
          ],
          [
           0.4444444444444444,
           "#bd3786"
          ],
          [
           0.5555555555555556,
           "#d8576b"
          ],
          [
           0.6666666666666666,
           "#ed7953"
          ],
          [
           0.7777777777777778,
           "#fb9f3a"
          ],
          [
           0.8888888888888888,
           "#fdca26"
          ],
          [
           1,
           "#f0f921"
          ]
         ]
        },
        "margin": {
         "t": 60
        },
        "template": {
         "data": {
          "bar": [
           {
            "error_x": {
             "color": "#2a3f5f"
            },
            "error_y": {
             "color": "#2a3f5f"
            },
            "marker": {
             "line": {
              "color": "#E5ECF6",
              "width": 0.5
             },
             "pattern": {
              "fillmode": "overlay",
              "size": 10,
              "solidity": 0.2
             }
            },
            "type": "bar"
           }
          ],
          "barpolar": [
           {
            "marker": {
             "line": {
              "color": "#E5ECF6",
              "width": 0.5
             },
             "pattern": {
              "fillmode": "overlay",
              "size": 10,
              "solidity": 0.2
             }
            },
            "type": "barpolar"
           }
          ],
          "carpet": [
           {
            "aaxis": {
             "endlinecolor": "#2a3f5f",
             "gridcolor": "white",
             "linecolor": "white",
             "minorgridcolor": "white",
             "startlinecolor": "#2a3f5f"
            },
            "baxis": {
             "endlinecolor": "#2a3f5f",
             "gridcolor": "white",
             "linecolor": "white",
             "minorgridcolor": "white",
             "startlinecolor": "#2a3f5f"
            },
            "type": "carpet"
           }
          ],
          "choropleth": [
           {
            "colorbar": {
             "outlinewidth": 0,
             "ticks": ""
            },
            "type": "choropleth"
           }
          ],
          "contour": [
           {
            "colorbar": {
             "outlinewidth": 0,
             "ticks": ""
            },
            "colorscale": [
             [
              0,
              "#0d0887"
             ],
             [
              0.1111111111111111,
              "#46039f"
             ],
             [
              0.2222222222222222,
              "#7201a8"
             ],
             [
              0.3333333333333333,
              "#9c179e"
             ],
             [
              0.4444444444444444,
              "#bd3786"
             ],
             [
              0.5555555555555556,
              "#d8576b"
             ],
             [
              0.6666666666666666,
              "#ed7953"
             ],
             [
              0.7777777777777778,
              "#fb9f3a"
             ],
             [
              0.8888888888888888,
              "#fdca26"
             ],
             [
              1,
              "#f0f921"
             ]
            ],
            "type": "contour"
           }
          ],
          "contourcarpet": [
           {
            "colorbar": {
             "outlinewidth": 0,
             "ticks": ""
            },
            "type": "contourcarpet"
           }
          ],
          "heatmap": [
           {
            "colorbar": {
             "outlinewidth": 0,
             "ticks": ""
            },
            "colorscale": [
             [
              0,
              "#0d0887"
             ],
             [
              0.1111111111111111,
              "#46039f"
             ],
             [
              0.2222222222222222,
              "#7201a8"
             ],
             [
              0.3333333333333333,
              "#9c179e"
             ],
             [
              0.4444444444444444,
              "#bd3786"
             ],
             [
              0.5555555555555556,
              "#d8576b"
             ],
             [
              0.6666666666666666,
              "#ed7953"
             ],
             [
              0.7777777777777778,
              "#fb9f3a"
             ],
             [
              0.8888888888888888,
              "#fdca26"
             ],
             [
              1,
              "#f0f921"
             ]
            ],
            "type": "heatmap"
           }
          ],
          "heatmapgl": [
           {
            "colorbar": {
             "outlinewidth": 0,
             "ticks": ""
            },
            "colorscale": [
             [
              0,
              "#0d0887"
             ],
             [
              0.1111111111111111,
              "#46039f"
             ],
             [
              0.2222222222222222,
              "#7201a8"
             ],
             [
              0.3333333333333333,
              "#9c179e"
             ],
             [
              0.4444444444444444,
              "#bd3786"
             ],
             [
              0.5555555555555556,
              "#d8576b"
             ],
             [
              0.6666666666666666,
              "#ed7953"
             ],
             [
              0.7777777777777778,
              "#fb9f3a"
             ],
             [
              0.8888888888888888,
              "#fdca26"
             ],
             [
              1,
              "#f0f921"
             ]
            ],
            "type": "heatmapgl"
           }
          ],
          "histogram": [
           {
            "marker": {
             "pattern": {
              "fillmode": "overlay",
              "size": 10,
              "solidity": 0.2
             }
            },
            "type": "histogram"
           }
          ],
          "histogram2d": [
           {
            "colorbar": {
             "outlinewidth": 0,
             "ticks": ""
            },
            "colorscale": [
             [
              0,
              "#0d0887"
             ],
             [
              0.1111111111111111,
              "#46039f"
             ],
             [
              0.2222222222222222,
              "#7201a8"
             ],
             [
              0.3333333333333333,
              "#9c179e"
             ],
             [
              0.4444444444444444,
              "#bd3786"
             ],
             [
              0.5555555555555556,
              "#d8576b"
             ],
             [
              0.6666666666666666,
              "#ed7953"
             ],
             [
              0.7777777777777778,
              "#fb9f3a"
             ],
             [
              0.8888888888888888,
              "#fdca26"
             ],
             [
              1,
              "#f0f921"
             ]
            ],
            "type": "histogram2d"
           }
          ],
          "histogram2dcontour": [
           {
            "colorbar": {
             "outlinewidth": 0,
             "ticks": ""
            },
            "colorscale": [
             [
              0,
              "#0d0887"
             ],
             [
              0.1111111111111111,
              "#46039f"
             ],
             [
              0.2222222222222222,
              "#7201a8"
             ],
             [
              0.3333333333333333,
              "#9c179e"
             ],
             [
              0.4444444444444444,
              "#bd3786"
             ],
             [
              0.5555555555555556,
              "#d8576b"
             ],
             [
              0.6666666666666666,
              "#ed7953"
             ],
             [
              0.7777777777777778,
              "#fb9f3a"
             ],
             [
              0.8888888888888888,
              "#fdca26"
             ],
             [
              1,
              "#f0f921"
             ]
            ],
            "type": "histogram2dcontour"
           }
          ],
          "mesh3d": [
           {
            "colorbar": {
             "outlinewidth": 0,
             "ticks": ""
            },
            "type": "mesh3d"
           }
          ],
          "parcoords": [
           {
            "line": {
             "colorbar": {
              "outlinewidth": 0,
              "ticks": ""
             }
            },
            "type": "parcoords"
           }
          ],
          "pie": [
           {
            "automargin": true,
            "type": "pie"
           }
          ],
          "scatter": [
           {
            "marker": {
             "colorbar": {
              "outlinewidth": 0,
              "ticks": ""
             }
            },
            "type": "scatter"
           }
          ],
          "scatter3d": [
           {
            "line": {
             "colorbar": {
              "outlinewidth": 0,
              "ticks": ""
             }
            },
            "marker": {
             "colorbar": {
              "outlinewidth": 0,
              "ticks": ""
             }
            },
            "type": "scatter3d"
           }
          ],
          "scattercarpet": [
           {
            "marker": {
             "colorbar": {
              "outlinewidth": 0,
              "ticks": ""
             }
            },
            "type": "scattercarpet"
           }
          ],
          "scattergeo": [
           {
            "marker": {
             "colorbar": {
              "outlinewidth": 0,
              "ticks": ""
             }
            },
            "type": "scattergeo"
           }
          ],
          "scattergl": [
           {
            "marker": {
             "colorbar": {
              "outlinewidth": 0,
              "ticks": ""
             }
            },
            "type": "scattergl"
           }
          ],
          "scattermapbox": [
           {
            "marker": {
             "colorbar": {
              "outlinewidth": 0,
              "ticks": ""
             }
            },
            "type": "scattermapbox"
           }
          ],
          "scatterpolar": [
           {
            "marker": {
             "colorbar": {
              "outlinewidth": 0,
              "ticks": ""
             }
            },
            "type": "scatterpolar"
           }
          ],
          "scatterpolargl": [
           {
            "marker": {
             "colorbar": {
              "outlinewidth": 0,
              "ticks": ""
             }
            },
            "type": "scatterpolargl"
           }
          ],
          "scatterternary": [
           {
            "marker": {
             "colorbar": {
              "outlinewidth": 0,
              "ticks": ""
             }
            },
            "type": "scatterternary"
           }
          ],
          "surface": [
           {
            "colorbar": {
             "outlinewidth": 0,
             "ticks": ""
            },
            "colorscale": [
             [
              0,
              "#0d0887"
             ],
             [
              0.1111111111111111,
              "#46039f"
             ],
             [
              0.2222222222222222,
              "#7201a8"
             ],
             [
              0.3333333333333333,
              "#9c179e"
             ],
             [
              0.4444444444444444,
              "#bd3786"
             ],
             [
              0.5555555555555556,
              "#d8576b"
             ],
             [
              0.6666666666666666,
              "#ed7953"
             ],
             [
              0.7777777777777778,
              "#fb9f3a"
             ],
             [
              0.8888888888888888,
              "#fdca26"
             ],
             [
              1,
              "#f0f921"
             ]
            ],
            "type": "surface"
           }
          ],
          "table": [
           {
            "cells": {
             "fill": {
              "color": "#EBF0F8"
             },
             "line": {
              "color": "white"
             }
            },
            "header": {
             "fill": {
              "color": "#C8D4E3"
             },
             "line": {
              "color": "white"
             }
            },
            "type": "table"
           }
          ]
         },
         "layout": {
          "annotationdefaults": {
           "arrowcolor": "#2a3f5f",
           "arrowhead": 0,
           "arrowwidth": 1
          },
          "autotypenumbers": "strict",
          "coloraxis": {
           "colorbar": {
            "outlinewidth": 0,
            "ticks": ""
           }
          },
          "colorscale": {
           "diverging": [
            [
             0,
             "#8e0152"
            ],
            [
             0.1,
             "#c51b7d"
            ],
            [
             0.2,
             "#de77ae"
            ],
            [
             0.3,
             "#f1b6da"
            ],
            [
             0.4,
             "#fde0ef"
            ],
            [
             0.5,
             "#f7f7f7"
            ],
            [
             0.6,
             "#e6f5d0"
            ],
            [
             0.7,
             "#b8e186"
            ],
            [
             0.8,
             "#7fbc41"
            ],
            [
             0.9,
             "#4d9221"
            ],
            [
             1,
             "#276419"
            ]
           ],
           "sequential": [
            [
             0,
             "#0d0887"
            ],
            [
             0.1111111111111111,
             "#46039f"
            ],
            [
             0.2222222222222222,
             "#7201a8"
            ],
            [
             0.3333333333333333,
             "#9c179e"
            ],
            [
             0.4444444444444444,
             "#bd3786"
            ],
            [
             0.5555555555555556,
             "#d8576b"
            ],
            [
             0.6666666666666666,
             "#ed7953"
            ],
            [
             0.7777777777777778,
             "#fb9f3a"
            ],
            [
             0.8888888888888888,
             "#fdca26"
            ],
            [
             1,
             "#f0f921"
            ]
           ],
           "sequentialminus": [
            [
             0,
             "#0d0887"
            ],
            [
             0.1111111111111111,
             "#46039f"
            ],
            [
             0.2222222222222222,
             "#7201a8"
            ],
            [
             0.3333333333333333,
             "#9c179e"
            ],
            [
             0.4444444444444444,
             "#bd3786"
            ],
            [
             0.5555555555555556,
             "#d8576b"
            ],
            [
             0.6666666666666666,
             "#ed7953"
            ],
            [
             0.7777777777777778,
             "#fb9f3a"
            ],
            [
             0.8888888888888888,
             "#fdca26"
            ],
            [
             1,
             "#f0f921"
            ]
           ]
          },
          "colorway": [
           "#636efa",
           "#EF553B",
           "#00cc96",
           "#ab63fa",
           "#FFA15A",
           "#19d3f3",
           "#FF6692",
           "#B6E880",
           "#FF97FF",
           "#FECB52"
          ],
          "font": {
           "color": "#2a3f5f"
          },
          "geo": {
           "bgcolor": "white",
           "lakecolor": "white",
           "landcolor": "#E5ECF6",
           "showlakes": true,
           "showland": true,
           "subunitcolor": "white"
          },
          "hoverlabel": {
           "align": "left"
          },
          "hovermode": "closest",
          "mapbox": {
           "style": "light"
          },
          "paper_bgcolor": "white",
          "plot_bgcolor": "#E5ECF6",
          "polar": {
           "angularaxis": {
            "gridcolor": "white",
            "linecolor": "white",
            "ticks": ""
           },
           "bgcolor": "#E5ECF6",
           "radialaxis": {
            "gridcolor": "white",
            "linecolor": "white",
            "ticks": ""
           }
          },
          "scene": {
           "xaxis": {
            "backgroundcolor": "#E5ECF6",
            "gridcolor": "white",
            "gridwidth": 2,
            "linecolor": "white",
            "showbackground": true,
            "ticks": "",
            "zerolinecolor": "white"
           },
           "yaxis": {
            "backgroundcolor": "#E5ECF6",
            "gridcolor": "white",
            "gridwidth": 2,
            "linecolor": "white",
            "showbackground": true,
            "ticks": "",
            "zerolinecolor": "white"
           },
           "zaxis": {
            "backgroundcolor": "#E5ECF6",
            "gridcolor": "white",
            "gridwidth": 2,
            "linecolor": "white",
            "showbackground": true,
            "ticks": "",
            "zerolinecolor": "white"
           }
          },
          "shapedefaults": {
           "line": {
            "color": "#2a3f5f"
           }
          },
          "ternary": {
           "aaxis": {
            "gridcolor": "white",
            "linecolor": "white",
            "ticks": ""
           },
           "baxis": {
            "gridcolor": "white",
            "linecolor": "white",
            "ticks": ""
           },
           "bgcolor": "#E5ECF6",
           "caxis": {
            "gridcolor": "white",
            "linecolor": "white",
            "ticks": ""
           }
          },
          "title": {
           "x": 0.05
          },
          "xaxis": {
           "automargin": true,
           "gridcolor": "white",
           "linecolor": "white",
           "ticks": "",
           "title": {
            "standoff": 15
           },
           "zerolinecolor": "white",
           "zerolinewidth": 2
          },
          "yaxis": {
           "automargin": true,
           "gridcolor": "white",
           "linecolor": "white",
           "ticks": "",
           "title": {
            "standoff": 15
           },
           "zerolinecolor": "white",
           "zerolinewidth": 2
          }
         }
        },
        "xaxis": {
         "anchor": "y",
         "constrain": "domain",
         "domain": [
          0,
          1
         ],
         "scaleanchor": "y"
        },
        "yaxis": {
         "anchor": "x",
         "autorange": "reversed",
         "constrain": "domain",
         "domain": [
          0,
          1
         ]
        }
       }
      },
      "text/html": [
       "<div>                            <div id=\"006e7f80-ca09-4611-b69f-7bfcdd0db080\" class=\"plotly-graph-div\" style=\"height:525px; width:100%;\"></div>            <script type=\"text/javascript\">                require([\"plotly\"], function(Plotly) {                    window.PLOTLYENV=window.PLOTLYENV || {};                                    if (document.getElementById(\"006e7f80-ca09-4611-b69f-7bfcdd0db080\")) {                    Plotly.newPlot(                        \"006e7f80-ca09-4611-b69f-7bfcdd0db080\",                        [{\"coloraxis\":\"coloraxis\",\"name\":\"0\",\"x\":[\"cc_num\",\"amt\",\"zip\",\"lat\",\"long\",\"city_pop\",\"unix_time\",\"merch_lat\",\"merch_long\",\"is_fraud\"],\"y\":[\"cc_num\",\"amt\",\"zip\",\"lat\",\"long\",\"city_pop\",\"unix_time\",\"merch_lat\",\"merch_long\",\"is_fraud\"],\"z\":[[1.0,0.0,0.04,-0.06,-0.05,-0.01,0.0,-0.06,-0.05,-0.0],[0.0,1.0,0.0,-0.0,-0.0,0.01,-0.0,-0.0,-0.0,0.22],[0.04,0.0,1.0,-0.11,-0.91,0.08,0.0,-0.11,-0.91,-0.0],[-0.06,-0.0,-0.11,1.0,-0.02,-0.16,0.0,0.99,-0.02,0.0],[-0.05,-0.0,-0.91,-0.02,1.0,-0.05,-0.0,-0.02,1.0,0.0],[-0.01,0.01,0.08,-0.16,-0.05,1.0,-0.0,-0.15,-0.05,0.0],[0.0,-0.0,0.0,0.0,-0.0,-0.0,1.0,0.0,-0.0,-0.01],[-0.06,-0.0,-0.11,0.99,-0.02,-0.15,0.0,1.0,-0.02,0.0],[-0.05,-0.0,-0.91,-0.02,1.0,-0.05,-0.0,-0.02,1.0,0.0],[-0.0,0.22,-0.0,0.0,0.0,0.0,-0.01,0.0,0.0,1.0]],\"type\":\"heatmap\",\"xaxis\":\"x\",\"yaxis\":\"y\",\"hovertemplate\":\"x: %{x}<br>y: %{y}<br>color: %{z}<extra></extra>\"}],                        {\"template\":{\"data\":{\"bar\":[{\"error_x\":{\"color\":\"#2a3f5f\"},\"error_y\":{\"color\":\"#2a3f5f\"},\"marker\":{\"line\":{\"color\":\"#E5ECF6\",\"width\":0.5},\"pattern\":{\"fillmode\":\"overlay\",\"size\":10,\"solidity\":0.2}},\"type\":\"bar\"}],\"barpolar\":[{\"marker\":{\"line\":{\"color\":\"#E5ECF6\",\"width\":0.5},\"pattern\":{\"fillmode\":\"overlay\",\"size\":10,\"solidity\":0.2}},\"type\":\"barpolar\"}],\"carpet\":[{\"aaxis\":{\"endlinecolor\":\"#2a3f5f\",\"gridcolor\":\"white\",\"linecolor\":\"white\",\"minorgridcolor\":\"white\",\"startlinecolor\":\"#2a3f5f\"},\"baxis\":{\"endlinecolor\":\"#2a3f5f\",\"gridcolor\":\"white\",\"linecolor\":\"white\",\"minorgridcolor\":\"white\",\"startlinecolor\":\"#2a3f5f\"},\"type\":\"carpet\"}],\"choropleth\":[{\"colorbar\":{\"outlinewidth\":0,\"ticks\":\"\"},\"type\":\"choropleth\"}],\"contour\":[{\"colorbar\":{\"outlinewidth\":0,\"ticks\":\"\"},\"colorscale\":[[0.0,\"#0d0887\"],[0.1111111111111111,\"#46039f\"],[0.2222222222222222,\"#7201a8\"],[0.3333333333333333,\"#9c179e\"],[0.4444444444444444,\"#bd3786\"],[0.5555555555555556,\"#d8576b\"],[0.6666666666666666,\"#ed7953\"],[0.7777777777777778,\"#fb9f3a\"],[0.8888888888888888,\"#fdca26\"],[1.0,\"#f0f921\"]],\"type\":\"contour\"}],\"contourcarpet\":[{\"colorbar\":{\"outlinewidth\":0,\"ticks\":\"\"},\"type\":\"contourcarpet\"}],\"heatmap\":[{\"colorbar\":{\"outlinewidth\":0,\"ticks\":\"\"},\"colorscale\":[[0.0,\"#0d0887\"],[0.1111111111111111,\"#46039f\"],[0.2222222222222222,\"#7201a8\"],[0.3333333333333333,\"#9c179e\"],[0.4444444444444444,\"#bd3786\"],[0.5555555555555556,\"#d8576b\"],[0.6666666666666666,\"#ed7953\"],[0.7777777777777778,\"#fb9f3a\"],[0.8888888888888888,\"#fdca26\"],[1.0,\"#f0f921\"]],\"type\":\"heatmap\"}],\"heatmapgl\":[{\"colorbar\":{\"outlinewidth\":0,\"ticks\":\"\"},\"colorscale\":[[0.0,\"#0d0887\"],[0.1111111111111111,\"#46039f\"],[0.2222222222222222,\"#7201a8\"],[0.3333333333333333,\"#9c179e\"],[0.4444444444444444,\"#bd3786\"],[0.5555555555555556,\"#d8576b\"],[0.6666666666666666,\"#ed7953\"],[0.7777777777777778,\"#fb9f3a\"],[0.8888888888888888,\"#fdca26\"],[1.0,\"#f0f921\"]],\"type\":\"heatmapgl\"}],\"histogram\":[{\"marker\":{\"pattern\":{\"fillmode\":\"overlay\",\"size\":10,\"solidity\":0.2}},\"type\":\"histogram\"}],\"histogram2d\":[{\"colorbar\":{\"outlinewidth\":0,\"ticks\":\"\"},\"colorscale\":[[0.0,\"#0d0887\"],[0.1111111111111111,\"#46039f\"],[0.2222222222222222,\"#7201a8\"],[0.3333333333333333,\"#9c179e\"],[0.4444444444444444,\"#bd3786\"],[0.5555555555555556,\"#d8576b\"],[0.6666666666666666,\"#ed7953\"],[0.7777777777777778,\"#fb9f3a\"],[0.8888888888888888,\"#fdca26\"],[1.0,\"#f0f921\"]],\"type\":\"histogram2d\"}],\"histogram2dcontour\":[{\"colorbar\":{\"outlinewidth\":0,\"ticks\":\"\"},\"colorscale\":[[0.0,\"#0d0887\"],[0.1111111111111111,\"#46039f\"],[0.2222222222222222,\"#7201a8\"],[0.3333333333333333,\"#9c179e\"],[0.4444444444444444,\"#bd3786\"],[0.5555555555555556,\"#d8576b\"],[0.6666666666666666,\"#ed7953\"],[0.7777777777777778,\"#fb9f3a\"],[0.8888888888888888,\"#fdca26\"],[1.0,\"#f0f921\"]],\"type\":\"histogram2dcontour\"}],\"mesh3d\":[{\"colorbar\":{\"outlinewidth\":0,\"ticks\":\"\"},\"type\":\"mesh3d\"}],\"parcoords\":[{\"line\":{\"colorbar\":{\"outlinewidth\":0,\"ticks\":\"\"}},\"type\":\"parcoords\"}],\"pie\":[{\"automargin\":true,\"type\":\"pie\"}],\"scatter\":[{\"marker\":{\"colorbar\":{\"outlinewidth\":0,\"ticks\":\"\"}},\"type\":\"scatter\"}],\"scatter3d\":[{\"line\":{\"colorbar\":{\"outlinewidth\":0,\"ticks\":\"\"}},\"marker\":{\"colorbar\":{\"outlinewidth\":0,\"ticks\":\"\"}},\"type\":\"scatter3d\"}],\"scattercarpet\":[{\"marker\":{\"colorbar\":{\"outlinewidth\":0,\"ticks\":\"\"}},\"type\":\"scattercarpet\"}],\"scattergeo\":[{\"marker\":{\"colorbar\":{\"outlinewidth\":0,\"ticks\":\"\"}},\"type\":\"scattergeo\"}],\"scattergl\":[{\"marker\":{\"colorbar\":{\"outlinewidth\":0,\"ticks\":\"\"}},\"type\":\"scattergl\"}],\"scattermapbox\":[{\"marker\":{\"colorbar\":{\"outlinewidth\":0,\"ticks\":\"\"}},\"type\":\"scattermapbox\"}],\"scatterpolar\":[{\"marker\":{\"colorbar\":{\"outlinewidth\":0,\"ticks\":\"\"}},\"type\":\"scatterpolar\"}],\"scatterpolargl\":[{\"marker\":{\"colorbar\":{\"outlinewidth\":0,\"ticks\":\"\"}},\"type\":\"scatterpolargl\"}],\"scatterternary\":[{\"marker\":{\"colorbar\":{\"outlinewidth\":0,\"ticks\":\"\"}},\"type\":\"scatterternary\"}],\"surface\":[{\"colorbar\":{\"outlinewidth\":0,\"ticks\":\"\"},\"colorscale\":[[0.0,\"#0d0887\"],[0.1111111111111111,\"#46039f\"],[0.2222222222222222,\"#7201a8\"],[0.3333333333333333,\"#9c179e\"],[0.4444444444444444,\"#bd3786\"],[0.5555555555555556,\"#d8576b\"],[0.6666666666666666,\"#ed7953\"],[0.7777777777777778,\"#fb9f3a\"],[0.8888888888888888,\"#fdca26\"],[1.0,\"#f0f921\"]],\"type\":\"surface\"}],\"table\":[{\"cells\":{\"fill\":{\"color\":\"#EBF0F8\"},\"line\":{\"color\":\"white\"}},\"header\":{\"fill\":{\"color\":\"#C8D4E3\"},\"line\":{\"color\":\"white\"}},\"type\":\"table\"}]},\"layout\":{\"annotationdefaults\":{\"arrowcolor\":\"#2a3f5f\",\"arrowhead\":0,\"arrowwidth\":1},\"autotypenumbers\":\"strict\",\"coloraxis\":{\"colorbar\":{\"outlinewidth\":0,\"ticks\":\"\"}},\"colorscale\":{\"diverging\":[[0,\"#8e0152\"],[0.1,\"#c51b7d\"],[0.2,\"#de77ae\"],[0.3,\"#f1b6da\"],[0.4,\"#fde0ef\"],[0.5,\"#f7f7f7\"],[0.6,\"#e6f5d0\"],[0.7,\"#b8e186\"],[0.8,\"#7fbc41\"],[0.9,\"#4d9221\"],[1,\"#276419\"]],\"sequential\":[[0.0,\"#0d0887\"],[0.1111111111111111,\"#46039f\"],[0.2222222222222222,\"#7201a8\"],[0.3333333333333333,\"#9c179e\"],[0.4444444444444444,\"#bd3786\"],[0.5555555555555556,\"#d8576b\"],[0.6666666666666666,\"#ed7953\"],[0.7777777777777778,\"#fb9f3a\"],[0.8888888888888888,\"#fdca26\"],[1.0,\"#f0f921\"]],\"sequentialminus\":[[0.0,\"#0d0887\"],[0.1111111111111111,\"#46039f\"],[0.2222222222222222,\"#7201a8\"],[0.3333333333333333,\"#9c179e\"],[0.4444444444444444,\"#bd3786\"],[0.5555555555555556,\"#d8576b\"],[0.6666666666666666,\"#ed7953\"],[0.7777777777777778,\"#fb9f3a\"],[0.8888888888888888,\"#fdca26\"],[1.0,\"#f0f921\"]]},\"colorway\":[\"#636efa\",\"#EF553B\",\"#00cc96\",\"#ab63fa\",\"#FFA15A\",\"#19d3f3\",\"#FF6692\",\"#B6E880\",\"#FF97FF\",\"#FECB52\"],\"font\":{\"color\":\"#2a3f5f\"},\"geo\":{\"bgcolor\":\"white\",\"lakecolor\":\"white\",\"landcolor\":\"#E5ECF6\",\"showlakes\":true,\"showland\":true,\"subunitcolor\":\"white\"},\"hoverlabel\":{\"align\":\"left\"},\"hovermode\":\"closest\",\"mapbox\":{\"style\":\"light\"},\"paper_bgcolor\":\"white\",\"plot_bgcolor\":\"#E5ECF6\",\"polar\":{\"angularaxis\":{\"gridcolor\":\"white\",\"linecolor\":\"white\",\"ticks\":\"\"},\"bgcolor\":\"#E5ECF6\",\"radialaxis\":{\"gridcolor\":\"white\",\"linecolor\":\"white\",\"ticks\":\"\"}},\"scene\":{\"xaxis\":{\"backgroundcolor\":\"#E5ECF6\",\"gridcolor\":\"white\",\"gridwidth\":2,\"linecolor\":\"white\",\"showbackground\":true,\"ticks\":\"\",\"zerolinecolor\":\"white\"},\"yaxis\":{\"backgroundcolor\":\"#E5ECF6\",\"gridcolor\":\"white\",\"gridwidth\":2,\"linecolor\":\"white\",\"showbackground\":true,\"ticks\":\"\",\"zerolinecolor\":\"white\"},\"zaxis\":{\"backgroundcolor\":\"#E5ECF6\",\"gridcolor\":\"white\",\"gridwidth\":2,\"linecolor\":\"white\",\"showbackground\":true,\"ticks\":\"\",\"zerolinecolor\":\"white\"}},\"shapedefaults\":{\"line\":{\"color\":\"#2a3f5f\"}},\"ternary\":{\"aaxis\":{\"gridcolor\":\"white\",\"linecolor\":\"white\",\"ticks\":\"\"},\"baxis\":{\"gridcolor\":\"white\",\"linecolor\":\"white\",\"ticks\":\"\"},\"bgcolor\":\"#E5ECF6\",\"caxis\":{\"gridcolor\":\"white\",\"linecolor\":\"white\",\"ticks\":\"\"}},\"title\":{\"x\":0.05},\"xaxis\":{\"automargin\":true,\"gridcolor\":\"white\",\"linecolor\":\"white\",\"ticks\":\"\",\"title\":{\"standoff\":15},\"zerolinecolor\":\"white\",\"zerolinewidth\":2},\"yaxis\":{\"automargin\":true,\"gridcolor\":\"white\",\"linecolor\":\"white\",\"ticks\":\"\",\"title\":{\"standoff\":15},\"zerolinecolor\":\"white\",\"zerolinewidth\":2}}},\"xaxis\":{\"anchor\":\"y\",\"domain\":[0.0,1.0],\"scaleanchor\":\"y\",\"constrain\":\"domain\"},\"yaxis\":{\"anchor\":\"x\",\"domain\":[0.0,1.0],\"autorange\":\"reversed\",\"constrain\":\"domain\"},\"coloraxis\":{\"colorscale\":[[0.0,\"#0d0887\"],[0.1111111111111111,\"#46039f\"],[0.2222222222222222,\"#7201a8\"],[0.3333333333333333,\"#9c179e\"],[0.4444444444444444,\"#bd3786\"],[0.5555555555555556,\"#d8576b\"],[0.6666666666666666,\"#ed7953\"],[0.7777777777777778,\"#fb9f3a\"],[0.8888888888888888,\"#fdca26\"],[1.0,\"#f0f921\"]]},\"margin\":{\"t\":60}},                        {\"responsive\": true}                    ).then(function(){\n",
       "                            \n",
       "var gd = document.getElementById('006e7f80-ca09-4611-b69f-7bfcdd0db080');\n",
       "var x = new MutationObserver(function (mutations, observer) {{\n",
       "        var display = window.getComputedStyle(gd).display;\n",
       "        if (!display || display === 'none') {{\n",
       "            console.log([gd, 'removed!']);\n",
       "            Plotly.purge(gd);\n",
       "            observer.disconnect();\n",
       "        }}\n",
       "}});\n",
       "\n",
       "// Listen for the removal of the full notebook cells\n",
       "var notebookContainer = gd.closest('#notebook-container');\n",
       "if (notebookContainer) {{\n",
       "    x.observe(notebookContainer, {childList: true});\n",
       "}}\n",
       "\n",
       "// Listen for the clearing of the current output cell\n",
       "var outputEl = gd.closest('.output');\n",
       "if (outputEl) {{\n",
       "    x.observe(outputEl, {childList: true});\n",
       "}}\n",
       "\n",
       "                        })                };                });            </script>        </div>"
      ]
     },
     "metadata": {},
     "output_type": "display_data"
    }
   ],
   "source": [
    "# Correlation Matrix\n",
    "corr = df_train.corr().round(2)\n",
    "fig = px.imshow(corr)\n",
    "fig.show()"
   ]
  },
  {
   "cell_type": "code",
   "execution_count": 59,
   "id": "67ead993",
   "metadata": {},
   "outputs": [],
   "source": [
    "# Cast Obj -> Datetime\n",
    "# Train\n",
    "df_train['trans_date_trans_time'] = pd.to_datetime(df_train['trans_date_trans_time'], errors='ignore')\n",
    "df_train['dob'] = pd.to_datetime(df_train['dob'], errors='ignore')\n",
    "\n",
    "# Test\n",
    "df_test['trans_date_trans_time'] = pd.to_datetime(df_test['trans_date_trans_time'], errors='ignore')\n",
    "df_test['dob'] = pd.to_datetime(df_test['dob'], errors='ignore')"
   ]
  },
  {
   "cell_type": "code",
   "execution_count": 45,
   "id": "71817f73",
   "metadata": {},
   "outputs": [
    {
     "data": {
      "text/plain": [
       "<AxesSubplot:>"
      ]
     },
     "execution_count": 45,
     "metadata": {},
     "output_type": "execute_result"
    },
    {
     "data": {
      "image/png": "[encoded data removed]",
      "text/plain": [
       "<Figure size 432x288 with 1 Axes>"
      ]
     },
     "metadata": {
      "needs_background": "light"
     },
     "output_type": "display_data"
    }
   ],
   "source": [
    "# Datetime\n",
    "df_train['trans_date_trans_time'].dt.to_period('M').value_counts().sort_index().plot(kind=\"bar\")"
   ]
  },
  {
   "cell_type": "code",
   "execution_count": 33,
   "id": "8c4e229d",
   "metadata": {},
   "outputs": [
    {
     "data": {
      "text/plain": [
       "<AxesSubplot:>"
      ]
     },
     "execution_count": 33,
     "metadata": {},
     "output_type": "execute_result"
    },
    {
     "data": {
      "image/png": "[encoded data removed]",
      "text/plain": [
       "<Figure size 432x288 with 1 Axes>"
      ]
     },
     "metadata": {
      "needs_background": "light"
     },
     "output_type": "display_data"
    }
   ],
   "source": [
    "df_train['trans_date_trans_time'].dt.day_name().value_counts().plot(kind=\"bar\")"
   ]
  },
  {
   "cell_type": "code",
   "execution_count": 43,
   "id": "e77d50b6",
   "metadata": {},
   "outputs": [
    {
     "data": {
      "text/plain": [
       "<AxesSubplot:>"
      ]
     },
     "execution_count": 43,
     "metadata": {},
     "output_type": "execute_result"
    },
    {
     "data": {
      "image/png": "[encoded data removed]",
      "text/plain": [
       "<Figure size 432x288 with 1 Axes>"
      ]
     },
     "metadata": {
      "needs_background": "light"
     },
     "output_type": "display_data"
    }
   ],
   "source": [
    "df_train['trans_date_trans_time'].dt.hour.value_counts().sort_index().plot(kind=\"bar\")"
   ]
  },
  {
   "cell_type": "code",
   "execution_count": 46,
   "id": "19b92268",
   "metadata": {},
   "outputs": [
    {
     "data": {
      "text/plain": [
       "<AxesSubplot:>"
      ]
     },
     "execution_count": 46,
     "metadata": {},
     "output_type": "execute_result"
    },
    {
     "data": {
      "image/png": "[encoded data removed]",
      "text/plain": [
       "<Figure size 432x288 with 1 Axes>"
      ]
     },
     "metadata": {
      "needs_background": "light"
     },
     "output_type": "display_data"
    }
   ],
   "source": [
    "# Category\n",
    "df_train['category'].value_counts().plot(kind=\"bar\")"
   ]
  },
  {
   "cell_type": "code",
   "execution_count": 47,
   "id": "624ae06d",
   "metadata": {},
   "outputs": [
    {
     "data": {
      "text/plain": [
       "<AxesSubplot:>"
      ]
     },
     "execution_count": 47,
     "metadata": {},
     "output_type": "execute_result"
    },
    {
     "data": {
      "image/png": "[encoded data removed]",
      "text/plain": [
       "<Figure size 432x288 with 1 Axes>"
      ]
     },
     "metadata": {
      "needs_background": "light"
     },
     "output_type": "display_data"
    }
   ],
   "source": [
    "# Gender\n",
    "df_train['gender'].value_counts().plot(kind=\"bar\")"
   ]
  },
  {
   "cell_type": "code",
   "execution_count": 57,
   "id": "29d0a214",
   "metadata": {},
   "outputs": [
    {
     "data": {
      "text/plain": [
       "Film/video editor                                              0.007542\n",
       "Exhibition designer                                            0.007094\n",
       "Naval architect                                                0.006697\n",
       "Surveyor, land/geomatics                                       0.006694\n",
       "Materials engineer                                             0.006378\n",
       "Designer, ceramics/pottery                                     0.006343\n",
       "Systems developer                                              0.005938\n",
       "IT trainer                                                     0.005922\n",
       "Financial adviser                                              0.005907\n",
       "Environmental consultant                                       0.005820\n",
       "Chartered public finance accountant                            0.005560\n",
       "Scientist, audiological                                        0.005533\n",
       "Chief Executive Officer                                        0.005531\n",
       "Copywriter, advertising                                        0.005511\n",
       "Comptroller                                                    0.005190\n",
       "Sub                                                            0.005168\n",
       "Podiatrist                                                     0.005131\n",
       "Agricultural consultant                                        0.005122\n",
       "Paramedic                                                      0.005117\n",
       "Magazine features editor                                       0.005091\n",
       "Historic buildings inspector/conservation officer              0.004785\n",
       "Librarian, public                                              0.004771\n",
       "Building surveyor                                              0.004764\n",
       "Musician                                                       0.004764\n",
       "Water engineer                                                 0.004754\n",
       "Scientist, research (maths)                                    0.004750\n",
       "Mining engineer                                                0.004744\n",
       "Barrister                                                      0.004725\n",
       "Audiological scientist                                         0.004718\n",
       "Immunologist                                                   0.004693\n",
       "Clothing/textile technologist                                  0.004665\n",
       "Prison officer                                                 0.004397\n",
       "Financial trader                                               0.004390\n",
       "Claims inspector/assessor                                      0.004371\n",
       "Energy engineer                                                0.004371\n",
       "Petroleum engineer                                             0.004370\n",
       "Quantity surveyor                                              0.004354\n",
       "Make                                                           0.004352\n",
       "Engineer, automotive                                           0.004345\n",
       "Mechanical engineer                                            0.004343\n",
       "Geoscientist                                                   0.004334\n",
       "Counsellor                                                     0.004330\n",
       "Secondary school teacher                                       0.004326\n",
       "Land/geomatics surveyor                                        0.004322\n",
       "Firefighter                                                    0.004319\n",
       "Early years teacher                                            0.004293\n",
       "Sales professional, IT                                         0.004255\n",
       "Pensions consultant                                            0.004245\n",
       "Psychologist, forensic                                         0.004223\n",
       "Psychotherapist, child                                         0.004211\n",
       "Librarian, academic                                            0.004013\n",
       "Research scientist (physical sciences)                         0.003999\n",
       "Electrical engineer                                            0.003994\n",
       "Insurance underwriter                                          0.003987\n",
       "Science writer                                                 0.003980\n",
       "Medical sales representative                                   0.003966\n",
       "Chartered loss adjuster                                        0.003960\n",
       "Drilling engineer                                              0.003958\n",
       "Engineer, biomedical                                           0.003949\n",
       "Trade mark attorney                                            0.003948\n",
       "Television production assistant                                0.003947\n",
       "Special educational needs teacher                              0.003932\n",
       "Scientist, marine                                              0.003925\n",
       "Cytogeneticist                                                 0.003924\n",
       "Chemical engineer                                              0.003922\n",
       "Multimedia programmer                                          0.003624\n",
       "Accounting technician                                          0.003604\n",
       "Dealer                                                         0.003596\n",
       "Counselling psychologist                                       0.003585\n",
       "Technical brewer                                               0.003581\n",
       "Trading standards officer                                      0.003579\n",
       "Toxicologist                                                   0.003574\n",
       "Engineer, production                                           0.003572\n",
       "Social researcher                                              0.003554\n",
       "Radio producer                                                 0.003552\n",
       "Chief Strategy Officer                                         0.003550\n",
       "Physiotherapist                                                0.003549\n",
       "Fine artist                                                    0.003544\n",
       "Teacher, special educational needs                             0.003543\n",
       "Race relations officer                                         0.003541\n",
       "Engineer, control and instrumentation                          0.003537\n",
       "Radio broadcast assistant                                      0.003534\n",
       "Therapist, occupational                                        0.003529\n",
       "Surveyor, minerals                                             0.003511\n",
       "Educational psychologist                                       0.003484\n",
       "Ceramics designer                                              0.003465\n",
       "Advertising account planner                                    0.003214\n",
       "Town planner                                                   0.003201\n",
       "Programme researcher, broadcasting/film/video                  0.003200\n",
       "Exhibitions officer, museum/gallery                            0.003196\n",
       "Surgeon                                                        0.003191\n",
       "Futures trader                                                 0.003190\n",
       "Television/film/video producer                                 0.003190\n",
       "Further education lecturer                                     0.003186\n",
       "Scientist, biomedical                                          0.003185\n",
       "Designer, industrial/product                                   0.003184\n",
       "English as a second language teacher                           0.003181\n",
       "Applications developer                                         0.003179\n",
       "Probation officer                                              0.003171\n",
       "Senior tax professional/tax inspector                          0.003167\n",
       "Buyer, industrial                                              0.003163\n",
       "Curator                                                        0.003160\n",
       "Child psychotherapist                                          0.003158\n",
       "Lexicographer                                                  0.003155\n",
       "Engineering geologist                                          0.003153\n",
       "Occupational psychologist                                      0.003146\n",
       "Herbalist                                                      0.003144\n",
       "Development worker, community                                  0.003143\n",
       "Pilot, airline                                                 0.003140\n",
       "Radiographer, therapeutic                                      0.003137\n",
       "Press photographer                                             0.003130\n",
       "Archaeologist                                                  0.003115\n",
       "Public relations account executive                             0.003110\n",
       "Facilities manager                                             0.003065\n",
       "Editor, commissioning                                          0.002802\n",
       "Forensic psychologist                                          0.002789\n",
       "Fisheries officer                                              0.002789\n",
       "Research officer, political party                              0.002786\n",
       "Engineer, electronics                                          0.002786\n",
       "Dispensing optician                                            0.002782\n",
       "Administrator                                                  0.002779\n",
       "Broadcast presenter                                            0.002779\n",
       "Insurance risk surveyor                                        0.002779\n",
       "Exercise physiologist                                          0.002778\n",
       "Engineer, mining                                               0.002772\n",
       "Systems analyst                                                0.002772\n",
       "Retail merchandiser                                            0.002772\n",
       "Chiropodist                                                    0.002772\n",
       "Operations geologist                                           0.002769\n",
       "Lecturer, further education                                    0.002766\n",
       "Call centre manager                                            0.002762\n",
       "Physicist, medical                                             0.002761\n",
       "Insurance broker                                               0.002757\n",
       "Learning disability nurse                                      0.002757\n",
       "Hospital doctor                                                0.002756\n",
       "Heritage manager                                               0.002750\n",
       "Research officer, trade union                                  0.002749\n",
       "Private music teacher                                          0.002746\n",
       "Structural engineer                                            0.002744\n",
       "Travel agency manager                                          0.002743\n",
       "Amenity horticulturist                                         0.002734\n",
       "Psychologist, counselling                                      0.002734\n",
       "Colour technologist                                            0.002719\n",
       "Tree surgeon                                                   0.002423\n",
       "Television floor manager                                       0.002414\n",
       "Metallurgist                                                   0.002408\n",
       "Geologist, engineering                                         0.002406\n",
       "Producer, radio                                                0.002399\n",
       "Arboriculturist                                                0.002392\n",
       "Phytotherapist                                                 0.002391\n",
       "Education officer, museum                                      0.002391\n",
       "Journalist, newspaper                                          0.002388\n",
       "Occupational hygienist                                         0.002386\n",
       "Site engineer                                                  0.002383\n",
       "Electronics engineer                                           0.002381\n",
       "Tourist information centre manager                             0.002380\n",
       "Regulatory affairs officer                                     0.002379\n",
       "Video editor                                                   0.002379\n",
       "Designer, jewellery                                            0.002378\n",
       "Biomedical scientist                                           0.002375\n",
       "Leisure centre manager                                         0.002375\n",
       "Licensed conveyancer                                           0.002372\n",
       "Press sub                                                      0.002368\n",
       "Production manager                                             0.002365\n",
       "Designer, furniture                                            0.002363\n",
       "Manufacturing engineer                                         0.002358\n",
       "Development worker, international aid                          0.002354\n",
       "Barrister's clerk                                              0.002353\n",
       "Camera operator                                                0.002353\n",
       "Commercial horticulturist                                      0.002352\n",
       "Warden/ranger                                                  0.002351\n",
       "Tax inspector                                                  0.002348\n",
       "Chief Operating Officer                                        0.002347\n",
       "Radiographer, diagnostic                                       0.002346\n",
       "Music tutor                                                    0.002344\n",
       "Health physicist                                               0.002340\n",
       "Product/process development scientist                          0.002337\n",
       "Designer, exhibition/display                                   0.002334\n",
       "Engineer, land                                                 0.002331\n",
       "Contractor                                                     0.002331\n",
       "Gaffer                                                         0.002317\n",
       "Freight forwarder                                              0.002312\n",
       "Lecturer, higher education                                     0.002309\n",
       "Commercial/residential surveyor                                0.002287\n",
       "Careers information officer                                    0.002284\n",
       "Energy manager                                                 0.002250\n",
       "Administrator, local government                                0.002009\n",
       "Osteopath                                                      0.002007\n",
       "Wellsite geologist                                             0.002006\n",
       "Statistician                                                   0.002004\n",
       "Market researcher                                              0.002002\n",
       "Risk analyst                                                   0.002001\n",
       "Nurse, children's                                              0.001997\n",
       "Doctor, general practice                                       0.001991\n",
       "Accountant, chartered public finance                           0.001990\n",
       "Chief Technology Officer                                       0.001990\n",
       "Health and safety adviser                                      0.001989\n",
       "Advice worker                                                  0.001989\n",
       "Programmer, multimedia                                         0.001989\n",
       "Soil scientist                                                 0.001989\n",
       "Tourism officer                                                0.001985\n",
       "Equality and diversity officer                                 0.001984\n",
       "Administrator, education                                       0.001983\n",
       "Human resources officer                                        0.001980\n",
       "Community arts worker                                          0.001980\n",
       "Operational researcher                                         0.001979\n",
       "Therapist, sports                                              0.001977\n",
       "Police officer                                                 0.001977\n",
       "Music therapist                                                0.001976\n",
       "Building control surveyor                                      0.001975\n",
       "Chief Financial Officer                                        0.001975\n",
       "Media buyer                                                    0.001975\n",
       "Bookseller                                                     0.001974\n",
       "Database administrator                                         0.001974\n",
       "Optician, dispensing                                           0.001974\n",
       "Fitness centre manager                                         0.001974\n",
       "Health service manager                                         0.001974\n",
       "Land                                                           0.001973\n",
       "Mental health nurse                                            0.001972\n",
       "Web designer                                                   0.001971\n",
       "Maintenance engineer                                           0.001970\n",
       "Therapist, art                                                 0.001970\n",
       "Doctor, hospital                                               0.001970\n",
       "Teacher, secondary school                                      0.001966\n",
       "Engineer, petroleum                                            0.001964\n",
       "Product designer                                               0.001963\n",
       "Paediatric nurse                                               0.001963\n",
       "Armed forces training and education officer                    0.001958\n",
       "Waste management officer                                       0.001957\n",
       "Tax adviser                                                    0.001957\n",
       "Geochemist                                                     0.001951\n",
       "Investment analyst                                             0.001951\n",
       "Patent attorney                                                0.001951\n",
       "Therapist, horticultural                                       0.001950\n",
       "Surveyor, rural practice                                       0.001947\n",
       "Administrator, charities/voluntary organisations               0.001947\n",
       "Intelligence analyst                                           0.001926\n",
       "Teacher, early years/pre                                       0.001918\n",
       "Sports development officer                                     0.001621\n",
       "Neurosurgeon                                                   0.001620\n",
       "Transport planner                                              0.001618\n",
       "Horticultural therapist                                        0.001615\n",
       "Chief Marketing Officer                                        0.001613\n",
       "Airline pilot                                                  0.001613\n",
       "Retail buyer                                                   0.001611\n",
       "Charity fundraiser                                             0.001610\n",
       "Pension scheme manager                                         0.001610\n",
       "Scientist, physiological                                       0.001610\n",
       "Psychologist, sport and exercise                               0.001609\n",
       "Landscape architect                                            0.001607\n",
       "Telecommunications researcher                                  0.001604\n",
       "Industrial/product designer                                    0.001602\n",
       "Animal nutritionist                                            0.001602\n",
       "Seismic interpreter                                            0.001601\n",
       "Psychiatrist                                                   0.001599\n",
       "Geologist, wellsite                                            0.001599\n",
       "Museum/gallery conservator                                     0.001598\n",
       "Glass blower/designer                                          0.001598\n",
       "Politician's assistant                                         0.001594\n",
       "Clinical research associate                                    0.001593\n",
       "Sport and exercise psychologist                                0.001593\n",
       "Editor, film/video                                             0.001591\n",
       "Clinical biochemist                                            0.001591\n",
       "Nutritional therapist                                          0.001589\n",
       "Museum/gallery exhibitions officer                             0.001586\n",
       "Therapist, drama                                               0.001586\n",
       "Art therapist                                                  0.001585\n",
       "Secretary/administrator                                        0.001584\n",
       "Immigration officer                                            0.001580\n",
       "Architect                                                      0.001579\n",
       "Psychotherapist                                                0.001579\n",
       "Retail banker                                                  0.001578\n",
       "Communications engineer                                        0.001578\n",
       "Animal technologist                                            0.001576\n",
       "Engineer, drilling                                             0.001576\n",
       "Scientist, research (physical sciences)                        0.001576\n",
       "Furniture designer                                             0.001576\n",
       "Editor, magazine features                                      0.001574\n",
       "Community education officer                                    0.001572\n",
       "Public house manager                                           0.001572\n",
       "Cartographer                                                   0.001572\n",
       "Health promotion specialist                                    0.001569\n",
       "Horticulturist, commercial                                     0.001569\n",
       "Biomedical engineer                                            0.001569\n",
       "Farm manager                                                   0.001567\n",
       "Scientific laboratory technician                               0.001566\n",
       "Research scientist (life sciences)                             0.001566\n",
       "Investment banker, corporate                                   0.001565\n",
       "Herpetologist                                                  0.001562\n",
       "Public affairs consultant                                      0.001561\n",
       "Volunteer coordinator                                          0.001561\n",
       "Pharmacist, community                                          0.001561\n",
       "Arts development officer                                       0.001561\n",
       "Medical secretary                                              0.001560\n",
       "Corporate investment banker                                    0.001560\n",
       "Information systems manager                                    0.001559\n",
       "Civil engineer, contracting                                    0.001556\n",
       "Dance movement psychotherapist                                 0.001556\n",
       "Engineer, technical sales                                      0.001555\n",
       "Aid worker                                                     0.001555\n",
       "General practice doctor                                        0.001543\n",
       "Theme park manager                                             0.001542\n",
       "Health visitor                                                 0.001526\n",
       "Animator                                                       0.001225\n",
       "Medical physicist                                              0.001217\n",
       "Acupuncturist                                                  0.001216\n",
       "Engineer, agricultural                                         0.001214\n",
       "Advertising account executive                                  0.001213\n",
       "Planning and development surveyor                              0.001212\n",
       "Embryologist, clinical                                         0.001212\n",
       "Barista                                                        0.001208\n",
       "Oceanographer                                                  0.001208\n",
       "Pharmacologist                                                 0.001207\n",
       "Event organiser                                                0.001205\n",
       "Special effects artist                                         0.001205\n",
       "Designer, interior/spatial                                     0.001205\n",
       "Psychologist, clinical                                         0.001202\n",
       "Learning mentor                                                0.001199\n",
       "Theatre manager                                                0.001199\n",
       "Orthoptist                                                     0.001198\n",
       "Sales executive                                                0.001198\n",
       "Surveyor, mining                                               0.001198\n",
       "Network engineer                                               0.001198\n",
       "Theatre director                                               0.001198\n",
       "Psychiatric nurse                                              0.001198\n",
       "Training and development officer                               0.001196\n",
       "Community pharmacist                                           0.001196\n",
       "Logistics and distribution manager                             0.001195\n",
       "Equities trader                                                0.001195\n",
       "Field seismologist                                             0.001194\n",
       "Engineer, communications                                       0.001193\n",
       "Set designer                                                   0.001192\n",
       "Interpreter                                                    0.001192\n",
       "Research scientist (maths)                                     0.001190\n",
       "Therapist, music                                               0.001189\n",
       "Environmental health practitioner                              0.001189\n",
       "Emergency planning/management officer                          0.001189\n",
       "Social research officer, government                            0.001188\n",
       "Physiological scientist                                        0.001188\n",
       "Building services engineer                                     0.001185\n",
       "Optometrist                                                    0.001185\n",
       "Diagnostic radiographer                                        0.001184\n",
       "Production engineer                                            0.001184\n",
       "Mudlogger                                                      0.001184\n",
       "Garment/textile technologist                                   0.001184\n",
       "Management consultant                                          0.001181\n",
       "Armed forces logistics/support/administrative officer          0.001180\n",
       "Higher education careers adviser                               0.001178\n",
       "Public librarian                                               0.001178\n",
       "Engineer, maintenance                                          0.001177\n",
       "Aeronautical engineer                                          0.001177\n",
       "Commissioning editor                                           0.001174\n",
       "Hydrologist                                                    0.001174\n",
       "Geophysicist/field seismologist                                0.001173\n",
       "Archivist                                                      0.001171\n",
       "Rural practice surveyor                                        0.001171\n",
       "Quarry manager                                                 0.001171\n",
       "Control and instrumentation engineer                           0.001170\n",
       "Records manager                                                0.001170\n",
       "Teaching laboratory technician                                 0.001161\n",
       "Engineer, civil (contracting)                                  0.001161\n",
       "Chartered accountant                                           0.001158\n",
       "Location manager                                               0.001154\n",
       "Illustrator                                                    0.001150\n",
       "Teacher, primary school                                        0.001134\n",
       "Conservation officer, historic buildings                       0.001131\n",
       "Media planner                                                  0.000824\n",
       "Medical technical officer                                      0.000822\n",
       "Plant breeder/geneticist                                       0.000817\n",
       "Pharmacist, hospital                                           0.000817\n",
       "Ambulance person                                               0.000816\n",
       "Sports administrator                                           0.000814\n",
       "Scientist, clinical (histocompatibility and immunogenetics)    0.000813\n",
       "Designer, multimedia                                           0.000812\n",
       "Furniture conservator/restorer                                 0.000809\n",
       "Engineer, broadcasting (operations)                            0.000807\n",
       "Designer, textile                                              0.000806\n",
       "Museum education officer                                       0.000806\n",
       "Pathologist                                                    0.000804\n",
       "Economist                                                      0.000804\n",
       "Academic librarian                                             0.000803\n",
       "Stage manager                                                  0.000803\n",
       "Hydrographic surveyor                                          0.000803\n",
       "Hospital pharmacist                                            0.000801\n",
       "Presenter, broadcasting                                        0.000801\n",
       "Company secretary                                              0.000801\n",
       "Biochemist, clinical                                           0.000801\n",
       "Environmental education officer                                0.000801\n",
       "Air broker                                                     0.000799\n",
       "Retail manager                                                 0.000797\n",
       "Engineer, building services                                    0.000797\n",
       "Production assistant, radio                                    0.000795\n",
       "Advertising copywriter                                         0.000795\n",
       "Cabin crew                                                     0.000794\n",
       "Chief of Staff                                                 0.000794\n",
       "Engineer, aeronautical                                         0.000794\n",
       "Art gallery manager                                            0.000793\n",
       "Education administrator                                        0.000793\n",
       "Insurance claims handler                                       0.000792\n",
       "Ecologist                                                      0.000791\n",
       "Civil Service fast streamer                                    0.000790\n",
       "Architectural technologist                                     0.000790\n",
       "Chartered legal executive (England and Wales)                  0.000789\n",
       "Outdoor activities/education manager                           0.000787\n",
       "Nurse, mental health                                           0.000783\n",
       "Loss adjuster, chartered                                       0.000782\n",
       "Chemist, analytical                                            0.000780\n",
       "Jewellery designer                                             0.000780\n",
       "Research scientist (medical)                                   0.000780\n",
       "Programmer, applications                                       0.000779\n",
       "Teacher, English as a foreign language                         0.000778\n",
       "Product manager                                                0.000778\n",
       "Clinical psychologist                                          0.000777\n",
       "IT consultant                                                  0.000774\n",
       "Manufacturing systems engineer                                 0.000772\n",
       "Scientist, research (medical)                                  0.000771\n",
       "Visual merchandiser                                            0.000770\n",
       "Geneticist, molecular                                          0.000420\n",
       "Engineer, civil (consulting)                                   0.000416\n",
       "Lawyer                                                         0.000416\n",
       "Estate manager/land agent                                      0.000415\n",
       "Merchandiser, retail                                           0.000414\n",
       "Engineer, manufacturing                                        0.000413\n",
       "Conservator, furniture                                         0.000413\n",
       "Community development worker                                   0.000413\n",
       "Administrator, arts                                            0.000413\n",
       "Designer, television/film set                                  0.000412\n",
       "Accountant, chartered certified                                0.000412\n",
       "TEFL teacher                                                   0.000411\n",
       "Magazine journalist                                            0.000411\n",
       "Horticultural consultant                                       0.000411\n",
       "Surveyor, hydrographic                                         0.000411\n",
       "Production assistant, television                               0.000410\n",
       "Minerals surveyor                                              0.000409\n",
       "Associate Professor                                            0.000409\n",
       "Oncologist                                                     0.000406\n",
       "Restaurant manager, fast food                                  0.000405\n",
       "Catering manager                                               0.000404\n",
       "Local government officer                                       0.000403\n",
       "Solicitor, Scotland                                            0.000401\n",
       "Broadcast engineer                                             0.000401\n",
       "Occupational therapist                                         0.000400\n",
       "Textile designer                                               0.000400\n",
       "Charity officer                                                0.000400\n",
       "Artist                                                         0.000400\n",
       "Field trials officer                                           0.000399\n",
       "Television camera operator                                     0.000399\n",
       "Air cabin crew                                                 0.000399\n",
       "Engineer, materials                                            0.000399\n",
       "Public relations officer                                       0.000399\n",
       "Environmental manager                                          0.000399\n",
       "Data scientist                                                 0.000398\n",
       "Hotel manager                                                  0.000397\n",
       "Conservator, museum/gallery                                    0.000396\n",
       "Teacher, adult education                                       0.000396\n",
       "Primary school teacher                                         0.000396\n",
       "Education officer, community                                   0.000395\n",
       "Nature conservation officer                                    0.000394\n",
       "Professor Emeritus                                             0.000393\n",
       "Investment banker, operational                                 0.000393\n",
       "Water quality scientist                                        0.000393\n",
       "Interior and spatial designer                                  0.000393\n",
       "Clinical cytogeneticist                                        0.000392\n",
       "Marketing executive                                            0.000392\n",
       "Civil Service administrator                                    0.000390\n",
       "Purchasing manager                                             0.000389\n",
       "Copy                                                           0.000389\n",
       "Writer                                                         0.000389\n",
       "Analytical chemist                                             0.000385\n",
       "Tour manager                                                   0.000384\n",
       "Buyer, retail                                                  0.000383\n",
       "English as a foreign language teacher                          0.000383\n",
       "Producer, television/film/video                                0.000380\n",
       "Engineer, structural                                           0.000379\n",
       "Hydrogeologist                                                 0.000374\n",
       "Dancer                                                         0.000015\n",
       "Air traffic controller                                         0.000013\n",
       "Careers adviser                                                0.000012\n",
       "Sales promotion account executive                              0.000011\n",
       "Legal secretary                                                0.000009\n",
       "Personnel officer                                              0.000009\n",
       "Engineer, site                                                 0.000009\n",
       "Solicitor                                                      0.000008\n",
       "Homeopath                                                      0.000008\n",
       "Accountant, chartered                                          0.000008\n",
       "Industrial buyer                                               0.000008\n",
       "Broadcast journalist                                           0.000007\n",
       "Forest/woodland manager                                        0.000007\n",
       "Armed forces technical officer                                 0.000006\n",
       "Information officer                                            0.000006\n",
       "Veterinary surgeon                                             0.000006\n",
       "Ship broker                                                    0.000005\n",
       "Contracting civil engineer                                     0.000005\n",
       "Warehouse manager                                              0.000005\n",
       "Name: job, dtype: float64"
      ]
     },
     "execution_count": 57,
     "metadata": {},
     "output_type": "execute_result"
    }
   ],
   "source": [
    "# Job\n",
    "df_train['job'].value_counts(normalize=True)"
   ]
  },
  {
   "cell_type": "code",
   "execution_count": 58,
   "id": "699d33a7",
   "metadata": {},
   "outputs": [
    {
     "data": {
      "text/plain": [
       "Birmingham                   0.004332\n",
       "San Antonio                  0.003956\n",
       "Utica                        0.003937\n",
       "Phoenix                      0.003914\n",
       "Meridian                     0.003902\n",
       "Thomas                       0.003574\n",
       "Conway                       0.003558\n",
       "Cleveland                    0.003551\n",
       "Warren                       0.003547\n",
       "Houston                      0.003214\n",
       "Burbank                      0.003207\n",
       "Naples                       0.003204\n",
       "Arcadia                      0.003159\n",
       "Indianapolis                 0.003141\n",
       "Brandon                      0.003119\n",
       "Fulton                       0.003067\n",
       "Lahoma                       0.002812\n",
       "Allentown                    0.002806\n",
       "Lakeland                     0.002803\n",
       "Dallas                       0.002799\n",
       "Washington                   0.002786\n",
       "Andrews                      0.002776\n",
       "Detroit                      0.002764\n",
       "Huntsville                   0.002745\n",
       "Hudson                       0.002735\n",
       "Orient                       0.002734\n",
       "Fort Washakie                0.002720\n",
       "Philadelphia                 0.002712\n",
       "Uledi                        0.002408\n",
       "Elberta                      0.002408\n",
       "Superior                     0.002405\n",
       "Bradley                      0.002404\n",
       "Moorhead                     0.002401\n",
       "Hinesburg                    0.002400\n",
       "Wilmington                   0.002398\n",
       "Hinckley                     0.002398\n",
       "Bowdoin                      0.002396\n",
       "De Witt                      0.002395\n",
       "Morrisdale                   0.002395\n",
       "Cottekill                    0.002387\n",
       "East Canaan                  0.002383\n",
       "Littleton                    0.002383\n",
       "Centerview                   0.002381\n",
       "Tulsa                        0.002380\n",
       "Jones                        0.002378\n",
       "De Soto                      0.002377\n",
       "Bauxite                      0.002376\n",
       "Plainfield                   0.002375\n",
       "Whaleyville                  0.002373\n",
       "Wetmore                      0.002371\n",
       "Heart Butte                  0.002371\n",
       "Walnut Ridge                 0.002369\n",
       "Norwalk                      0.002369\n",
       "Thrall                       0.002368\n",
       "Baton Rouge                  0.002363\n",
       "Sutherland                   0.002361\n",
       "Gadsden                      0.002360\n",
       "Shields                      0.002357\n",
       "Tupper Lake                  0.002356\n",
       "Goodrich                     0.002355\n",
       "Florence                     0.002349\n",
       "Rocky Mount                  0.002348\n",
       "Thompson                     0.002344\n",
       "Grandview                    0.002344\n",
       "Norman                       0.002344\n",
       "Roma                         0.002343\n",
       "Newhall                      0.002340\n",
       "Topeka                       0.002335\n",
       "Sebring                      0.002334\n",
       "Manistique                   0.002334\n",
       "Sun City                     0.002334\n",
       "Reno                         0.002322\n",
       "Lomax                        0.002318\n",
       "Ranier                       0.002293\n",
       "Westport                     0.002274\n",
       "Thida                        0.002274\n",
       "Kingsford Heights            0.002253\n",
       "Clarks Mills                 0.002250\n",
       "Edisto Island                0.002250\n",
       "Pembroke Township            0.002248\n",
       "Ruckersville                 0.002020\n",
       "Oakland                      0.002017\n",
       "Glendale                     0.002016\n",
       "Espanola                     0.002014\n",
       "Issaquah                     0.002007\n",
       "Ronceverte                   0.002004\n",
       "Lawrence                     0.002003\n",
       "San Diego                    0.002001\n",
       "Sachse                       0.001998\n",
       "Sherman                      0.001997\n",
       "Knoxville                    0.001995\n",
       "Johns Island                 0.001995\n",
       "Grover                       0.001994\n",
       "Bagley                       0.001994\n",
       "Key West                     0.001993\n",
       "West Sayville                0.001991\n",
       "Scotland                     0.001988\n",
       "Red River                    0.001988\n",
       "Bellmore                     0.001987\n",
       "Murfreesboro                 0.001987\n",
       "Esbon                        0.001985\n",
       "Stanchfield                  0.001984\n",
       "Lanark Village               0.001984\n",
       "North Wilkesboro             0.001984\n",
       "New Holstein                 0.001982\n",
       "Elizabeth                    0.001979\n",
       "Kensington                   0.001977\n",
       "Moundsville                  0.001977\n",
       "Smiths Grove                 0.001977\n",
       "Leonard                      0.001977\n",
       "New York City                0.001977\n",
       "Rock Springs                 0.001976\n",
       "Alpharetta                   0.001976\n",
       "Hannawa Falls                0.001976\n",
       "Edmond                       0.001975\n",
       "Muskegon                     0.001974\n",
       "Wichita                      0.001973\n",
       "Lake Jackson                 0.001971\n",
       "Meadville                    0.001971\n",
       "Blooming Grove               0.001970\n",
       "Haw River                    0.001970\n",
       "Moriarty                     0.001970\n",
       "Bessemer                     0.001969\n",
       "Spencer                      0.001969\n",
       "Cochranton                   0.001968\n",
       "Winfield                     0.001967\n",
       "Fenelton                     0.001967\n",
       "Romulus                      0.001965\n",
       "Springfield                  0.001965\n",
       "Drakes Branch                0.001964\n",
       "Diamond                      0.001961\n",
       "Oolitic                      0.001960\n",
       "Denham Springs               0.001959\n",
       "Armagh                       0.001959\n",
       "Mobile                       0.001958\n",
       "Camden                       0.001955\n",
       "Mulberry Grove               0.001954\n",
       "Redford                      0.001951\n",
       "Milford                      0.001947\n",
       "Fayetteville                 0.001947\n",
       "Saint Amant                  0.001947\n",
       "Fort Myers                   0.001947\n",
       "Hancock                      0.001943\n",
       "Brunson                      0.001930\n",
       "Tekoa                        0.001896\n",
       "Murrayville                  0.001894\n",
       "Woodville                    0.001626\n",
       "Harrodsburg                  0.001624\n",
       "Tyler                        0.001621\n",
       "Barneveld                    0.001620\n",
       "Acworth                      0.001617\n",
       "Saxon                        0.001614\n",
       "Wilmette                     0.001613\n",
       "Napa                         0.001613\n",
       "Barnstable                   0.001612\n",
       "Basye                        0.001612\n",
       "Altonah                      0.001611\n",
       "Grassflat                    0.001610\n",
       "Coffeeville                  0.001610\n",
       "Mount Hope                   0.001610\n",
       "Sontag                       0.001606\n",
       "Mount Saint Joseph           0.001606\n",
       "Bridger                      0.001604\n",
       "Holstein                     0.001604\n",
       "Steuben                      0.001604\n",
       "Falconer                     0.001604\n",
       "Catawba                      0.001600\n",
       "Cisco                        0.001600\n",
       "Comfrey                      0.001599\n",
       "Summerfield                  0.001599\n",
       "Cokeburg                     0.001599\n",
       "Pointe Aux Pins              0.001599\n",
       "Heiskell                     0.001599\n",
       "Creedmoor                    0.001597\n",
       "High Rolls Mountain Park     0.001596\n",
       "Lawn                         0.001596\n",
       "Lohrville                    0.001596\n",
       "Corriganville                0.001596\n",
       "Atlantic                     0.001595\n",
       "Brownville                   0.001595\n",
       "Noonan                       0.001593\n",
       "New Boston                   0.001593\n",
       "Dunlevy                      0.001592\n",
       "Holliday                     0.001592\n",
       "Louisville                   0.001591\n",
       "North Prairie                0.001591\n",
       "Saint Paul                   0.001590\n",
       "Keisterville                 0.001590\n",
       "Oconto Falls                 0.001589\n",
       "Mc Veytown                   0.001589\n",
       "Mc Nabb                      0.001588\n",
       "Winger                       0.001588\n",
       "Methuen                      0.001587\n",
       "Scotia                       0.001587\n",
       "Pittsburgh                   0.001587\n",
       "Holcomb                      0.001586\n",
       "Georgetown                   0.001586\n",
       "Bronx                        0.001586\n",
       "Plantersville                0.001586\n",
       "Shippingport                 0.001584\n",
       "Matawan                      0.001584\n",
       "Freedom                      0.001584\n",
       "Tallmansville                0.001583\n",
       "Rock Tavern                  0.001583\n",
       "O Brien                      0.001583\n",
       "Egan                         0.001582\n",
       "Altair                       0.001582\n",
       "West Hartford                0.001582\n",
       "Sacramento                   0.001581\n",
       "Grant                        0.001581\n",
       "Nobleboro                    0.001581\n",
       "Westerville                  0.001581\n",
       "Southfield                   0.001580\n",
       "Notrees                      0.001580\n",
       "Fiddletown                   0.001580\n",
       "Saint Bonaventure            0.001580\n",
       "Bolton                       0.001580\n",
       "Breesport                    0.001579\n",
       "Marathon                     0.001579\n",
       "Hurricane                    0.001579\n",
       "Hooper                       0.001579\n",
       "Mesa                         0.001579\n",
       "Cascade Locks                0.001579\n",
       "Kansas City                  0.001577\n",
       "Graniteville                 0.001577\n",
       "Belgrade                     0.001576\n",
       "Logan                        0.001576\n",
       "Wheaton                      0.001575\n",
       "Nazareth                     0.001575\n",
       "Ogdensburg                   0.001575\n",
       "Tomales                      0.001574\n",
       "Wilton                       0.001574\n",
       "Clayton                      0.001572\n",
       "Burlington                   0.001572\n",
       "Fordoche                     0.001572\n",
       "Meredith                     0.001571\n",
       "Parsonsfield                 0.001571\n",
       "Mound City                   0.001571\n",
       "North Washington             0.001571\n",
       "Coleharbor                   0.001570\n",
       "Carlotta                     0.001570\n",
       "Altona                       0.001569\n",
       "Mayersville                  0.001569\n",
       "Monmouth Beach               0.001569\n",
       "Afton                        0.001569\n",
       "Leo                          0.001569\n",
       "Falmouth                     0.001569\n",
       "Ratcliff                     0.001569\n",
       "Brooklyn                     0.001568\n",
       "Schaefferstown               0.001568\n",
       "Cromona                      0.001567\n",
       "Enola                        0.001567\n",
       "Mountain Park                0.001566\n",
       "North Loup                   0.001566\n",
       "Saint Petersburg             0.001565\n",
       "San Jose                     0.001565\n",
       "Avoca                        0.001564\n",
       "Lonsdale                     0.001564\n",
       "Moravian Falls               0.001564\n",
       "Mifflin                      0.001563\n",
       "Roosevelt                    0.001562\n",
       "Plymouth                     0.001562\n",
       "Harper                       0.001561\n",
       "Manderson                    0.001561\n",
       "Greenwich                    0.001561\n",
       "Shenandoah Junction          0.001561\n",
       "Hewitt                       0.001561\n",
       "Sheffield                    0.001560\n",
       "May                          0.001560\n",
       "Laramie                      0.001559\n",
       "Clarinda                     0.001559\n",
       "Prairie Hill                 0.001557\n",
       "Doe Hill                     0.001556\n",
       "Surrency                     0.001555\n",
       "Mallie                       0.001554\n",
       "Tyaskin                      0.001554\n",
       "Cord                         0.001553\n",
       "Arnold                       0.001552\n",
       "Port Costa                   0.001552\n",
       "Helm                         0.001545\n",
       "Manville                     0.001545\n",
       "Riverton                     0.001544\n",
       "Phenix City                  0.001544\n",
       "Garrattsville                0.001543\n",
       "Kirby                        0.001542\n",
       "Lakeport                     0.001539\n",
       "Battle Creek                 0.001526\n",
       "Delhi                        0.001232\n",
       "Blackville                   0.001219\n",
       "Beaver Falls                 0.001218\n",
       "Sturgis                      0.001217\n",
       "Mount Morris                 0.001216\n",
       "Kissee Mills                 0.001214\n",
       "Lake Oswego                  0.001212\n",
       "Milwaukee                    0.001212\n",
       "Clarksville                  0.001211\n",
       "West Palm Beach              0.001211\n",
       "Fairview                     0.001210\n",
       "Deadwood                     0.001210\n",
       "Wales                        0.001209\n",
       "Luray                        0.001208\n",
       "Oaks                         0.001208\n",
       "Great Mills                  0.001207\n",
       "Cherokee Village             0.001207\n",
       "Grenada                      0.001206\n",
       "Moulton                      0.001205\n",
       "Harborcreek                  0.001205\n",
       "Cass                         0.001205\n",
       "Columbia                     0.001204\n",
       "Bay Minette                  0.001203\n",
       "Coleman                      0.001203\n",
       "Mc Cracken                   0.001203\n",
       "Dieterich                    0.001202\n",
       "Greenview                    0.001202\n",
       "Independence                 0.001202\n",
       "Seneca                       0.001202\n",
       "Eugene                       0.001202\n",
       "East Andover                 0.001202\n",
       "New Ellenton                 0.001202\n",
       "Elizabethtown                0.001201\n",
       "Zaleski                      0.001201\n",
       "Oxford                       0.001201\n",
       "West Columbia                0.001201\n",
       "Lowell                       0.001200\n",
       "Loxahatchee                  0.001200\n",
       "Big Indian                   0.001200\n",
       "Indian Wells                 0.001199\n",
       "Juliette                     0.001199\n",
       "Des Moines                   0.001198\n",
       "Montandon                    0.001198\n",
       "North Judson                 0.001198\n",
       "Fullerton                    0.001198\n",
       "Vero Beach                   0.001198\n",
       "Viola                        0.001198\n",
       "Quanah                       0.001197\n",
       "Smackover                    0.001196\n",
       "Athena                       0.001196\n",
       "Jermyn                       0.001196\n",
       "Paulding                     0.001196\n",
       "Shelter Island               0.001195\n",
       "Saint James City             0.001195\n",
       "Cuyahoga Falls               0.001195\n",
       "Greendale                    0.001195\n",
       "Washington Court House       0.001195\n",
       "Oak Hill                     0.001194\n",
       "Rule                         0.001194\n",
       "Stirling                     0.001194\n",
       "Irwinton                     0.001194\n",
       "Fields Landing               0.001193\n",
       "Lima                         0.001193\n",
       "Ballwin                      0.001193\n",
       "Colorado Springs             0.001193\n",
       "Ruth                         0.001192\n",
       "Bowersville                  0.001191\n",
       "Tomahawk                     0.001191\n",
       "Manchester                   0.001191\n",
       "Cazenovia                    0.001191\n",
       "New Waverly                  0.001190\n",
       "Ozawkie                      0.001190\n",
       "Howells                      0.001190\n",
       "Laguna Hills                 0.001190\n",
       "Browning                     0.001190\n",
       "Clay Center                  0.001189\n",
       "University                   0.001189\n",
       "Grand Junction               0.001189\n",
       "Margaretville                0.001189\n",
       "Randolph                     0.001189\n",
       "Belmond                      0.001188\n",
       "Mansfield                    0.001188\n",
       "Irvine                       0.001188\n",
       "Cedar                        0.001188\n",
       "Comfort                      0.001187\n",
       "Eldridge                     0.001187\n",
       "Newark Valley                0.001187\n",
       "Ruidoso                      0.001186\n",
       "Moro                         0.001186\n",
       "Santa Monica                 0.001186\n",
       "Hawthorne                    0.001186\n",
       "Baroda                       0.001186\n",
       "Stephensport                 0.001186\n",
       "Henderson                    0.001185\n",
       "Zavalla                      0.001185\n",
       "Manley                       0.001184\n",
       "Palermo                      0.001184\n",
       "Port Gibson                  0.001184\n",
       "Arlington                    0.001184\n",
       "Jefferson                    0.001184\n",
       "Lamberton                    0.001184\n",
       "Mount Perry                  0.001183\n",
       "Turner                       0.001182\n",
       "Kilgore                      0.001182\n",
       "Darien                       0.001181\n",
       "Chester Heights              0.001181\n",
       "Hahira                       0.001181\n",
       "North Augusta                0.001181\n",
       "Daly City                    0.001180\n",
       "Laredo                       0.001180\n",
       "Paint Rock                   0.001179\n",
       "Hopkins                      0.001179\n",
       "Bonfield                     0.001179\n",
       "Amanda                       0.001178\n",
       "Tower Hill                   0.001178\n",
       "Cecilton                     0.001178\n",
       "Kenner                       0.001178\n",
       "Center Point                 0.001178\n",
       "Lowville                     0.001178\n",
       "Port Ewen                    0.001178\n",
       "June Lake                    0.001178\n",
       "Princeton                    0.001178\n",
       "Jelm                         0.001178\n",
       "Paauilo                      0.001178\n",
       "Scarborough                  0.001178\n",
       "Titusville                   0.001177\n",
       "Highland                     0.001177\n",
       "Gardiner                     0.001177\n",
       "Joliet                       0.001176\n",
       "Purmela                      0.001176\n",
       "Karnack                      0.001176\n",
       "Holloway                     0.001176\n",
       "West Harrison                0.001175\n",
       "Whigham                      0.001175\n",
       "Hawley                       0.001175\n",
       "Marienville                  0.001175\n",
       "Ollie                        0.001175\n",
       "Mounds                       0.001175\n",
       "Keller                       0.001175\n",
       "Valdosta                     0.001174\n",
       "Cadiz                        0.001174\n",
       "Gretna                       0.001174\n",
       "Munith                       0.001173\n",
       "Mill Creek                   0.001172\n",
       "River                        0.001171\n",
       "Coyle                        0.001171\n",
       "Norman Park                  0.001171\n",
       "Minneapolis                  0.001171\n",
       "Matthews                     0.001171\n",
       "Eureka                       0.001171\n",
       "Orangeburg                   0.001170\n",
       "Cranks                       0.001170\n",
       "Harrington Park              0.001170\n",
       "Mooresville                  0.001170\n",
       "Big Creek                    0.001169\n",
       "Corsica                      0.001168\n",
       "Bridgeport                   0.001168\n",
       "Powell                       0.001168\n",
       "Collettsville                0.001167\n",
       "Hatch                        0.001167\n",
       "Ash Flat                     0.001167\n",
       "Blairstown                   0.001167\n",
       "Bristol                      0.001166\n",
       "Sula                         0.001166\n",
       "Lolita                       0.001166\n",
       "Timberville                  0.001166\n",
       "Campbell                     0.001166\n",
       "Bailey                       0.001165\n",
       "Dumont                       0.001165\n",
       "Cowlesville                  0.001164\n",
       "Ford                         0.001162\n",
       "Payson                       0.001161\n",
       "Elkhart                      0.001161\n",
       "Waupaca                      0.001161\n",
       "Varnell                      0.001160\n",
       "Belfast                      0.001159\n",
       "Creola                       0.001157\n",
       "Moab                         0.001154\n",
       "Farmington                   0.001154\n",
       "Spring Church                0.001152\n",
       "Rhame                        0.001150\n",
       "Burke                        0.001138\n",
       "West Henrietta               0.001134\n",
       "Deane                        0.001131\n",
       "Hampton                      0.000826\n",
       "Christine                    0.000825\n",
       "Greenville                   0.000824\n",
       "Dubre                        0.000816\n",
       "North Tonawanda              0.000816\n",
       "Texarkana                    0.000814\n",
       "Albany                       0.000814\n",
       "Oran                         0.000814\n",
       "Winter                       0.000814\n",
       "Lonetree                     0.000813\n",
       "Ridgeland                    0.000813\n",
       "Bristow                      0.000813\n",
       "Parks                        0.000811\n",
       "Alva                         0.000811\n",
       "Maysville                    0.000811\n",
       "Pomona                       0.000811\n",
       "Pelham                       0.000810\n",
       "Smock                        0.000810\n",
       "Alexandria                   0.000809\n",
       "Beasley                      0.000809\n",
       "Pueblo                       0.000808\n",
       "Colton                       0.000807\n",
       "Halma                        0.000807\n",
       "Boonton                      0.000807\n",
       "Amsterdam                    0.000807\n",
       "Heislerville                 0.000807\n",
       "Clifton                      0.000807\n",
       "Brinson                      0.000807\n",
       "Stayton                      0.000807\n",
       "Hurley                       0.000807\n",
       "Kent                         0.000806\n",
       "American Fork                0.000806\n",
       "Kirk                         0.000806\n",
       "Umatilla                     0.000806\n",
       "Gibsonville                  0.000805\n",
       "Edinburg                     0.000805\n",
       "Sixes                        0.000804\n",
       "Carroll                      0.000804\n",
       "Carlisle                     0.000804\n",
       "Sauk Rapids                  0.000803\n",
       "Iliff                        0.000803\n",
       "Pewee Valley                 0.000803\n",
       "Orr                          0.000802\n",
       "Ashford                      0.000802\n",
       "Winslow                      0.000802\n",
       "Queenstown                   0.000802\n",
       "Duncan                       0.000801\n",
       "Mount Clemens                0.000801\n",
       "Downsville                   0.000801\n",
       "Pikesville                   0.000801\n",
       "West Green                   0.000801\n",
       "East Troy                    0.000801\n",
       "Slayden                      0.000801\n",
       "Belle Fourche                0.000801\n",
       "Port Richey                  0.000801\n",
       "Weeping Water                0.000801\n",
       "Spearsville                  0.000801\n",
       "Grantham                     0.000801\n",
       "Jordanville                  0.000799\n",
       "Auburn                       0.000799\n",
       "Pembroke                     0.000799\n",
       "Easton                       0.000799\n",
       "Paradise Valley              0.000798\n",
       "Eagarville                   0.000797\n",
       "Aledo                        0.000797\n",
       "Montrose                     0.000797\n",
       "Olmsted                      0.000797\n",
       "Higganum                     0.000797\n",
       "Milner                       0.000797\n",
       "Westhampton Beach            0.000797\n",
       "Rumely                       0.000797\n",
       "Grand Bay                    0.000797\n",
       "Honokaa                      0.000796\n",
       "Marion                       0.000796\n",
       "Smith River                  0.000795\n",
       "Ashfield                     0.000795\n",
       "Oklahoma City                0.000795\n",
       "Halstad                      0.000795\n",
       "Bethel Springs               0.000795\n",
       "Stillwater                   0.000794\n",
       "Saint Louis                  0.000794\n",
       "Phil Campbell                0.000794\n",
       "Scotts Mills                 0.000794\n",
       "Central                      0.000794\n",
       "Lakeview                     0.000794\n",
       "Grand Ridge                  0.000793\n",
       "Lubbock                      0.000793\n",
       "Vinton                       0.000793\n",
       "Cape Coral                   0.000792\n",
       "Cuthbert                     0.000792\n",
       "Glen Rock                    0.000792\n",
       "Metairie                     0.000792\n",
       "Unionville                   0.000792\n",
       "Port Charlotte               0.000792\n",
       "Corona                       0.000792\n",
       "Tampa                        0.000791\n",
       "West Decatur                 0.000791\n",
       "Beaverdam                    0.000791\n",
       "Nelson                       0.000791\n",
       "Avera                        0.000791\n",
       "Cressona                     0.000791\n",
       "Deltona                      0.000790\n",
       "Cross Plains                 0.000790\n",
       "Center Tuftonboro            0.000790\n",
       "Melbourne                    0.000790\n",
       "Albuquerque                  0.000790\n",
       "Barnard                      0.000790\n",
       "Shrewsbury                   0.000790\n",
       "Minnesota Lake               0.000790\n",
       "Llano                        0.000790\n",
       "Goreville                    0.000790\n",
       "Bolivar                      0.000789\n",
       "Portland                     0.000789\n",
       "Hedley                       0.000789\n",
       "Clune                        0.000789\n",
       "Blairsden-Graeagle           0.000789\n",
       "Watertown                    0.000788\n",
       "Dongola                      0.000788\n",
       "South Hero                   0.000788\n",
       "Bay City                     0.000787\n",
       "Union                        0.000787\n",
       "Falls Church                 0.000787\n",
       "West Eaton                   0.000787\n",
       "Heidelberg                   0.000787\n",
       "Ringwood                     0.000787\n",
       "Brantley                     0.000786\n",
       "Greenwood                    0.000786\n",
       "Alder                        0.000786\n",
       "Sterling City                0.000785\n",
       "Armonk                       0.000784\n",
       "West Monroe                  0.000784\n",
       "Chester                      0.000784\n",
       "Roseland                     0.000783\n",
       "Emporium                     0.000783\n",
       "Canton                       0.000782\n",
       "Newberg                      0.000782\n",
       "Mountain Center              0.000782\n",
       "Brooklin                     0.000782\n",
       "Tamaroa                      0.000782\n",
       "Churubusco                   0.000782\n",
       "Gregory                      0.000781\n",
       "Montgomery                   0.000780\n",
       "Schaumburg                   0.000780\n",
       "Allenhurst                   0.000780\n",
       "Kirtland Afb                 0.000780\n",
       "Veedersburg                  0.000779\n",
       "Haynes                       0.000779\n",
       "Oriskany Falls               0.000779\n",
       "Atglen                       0.000778\n",
       "Tickfaw                      0.000778\n",
       "Lebanon                      0.000778\n",
       "Manor                        0.000778\n",
       "Parkers Lake                 0.000778\n",
       "South Londonderry            0.000777\n",
       "Haines City                  0.000777\n",
       "Harwood                      0.000777\n",
       "Tiptonville                  0.000777\n",
       "Glade Spring                 0.000777\n",
       "Prosperity                   0.000777\n",
       "Wauchula                     0.000776\n",
       "Vanderbilt                   0.000776\n",
       "Humble                       0.000775\n",
       "Crownpoint                   0.000774\n",
       "Norwich                      0.000774\n",
       "Leetsdale                    0.000774\n",
       "Miamisburg                   0.000773\n",
       "Rockwood                     0.000773\n",
       "Hedrick                      0.000772\n",
       "Grimesland                   0.000772\n",
       "Mendon                       0.000772\n",
       "Belmont                      0.000771\n",
       "Luzerne                      0.000770\n",
       "Waukesha                     0.000770\n",
       "Reynolds                     0.000770\n",
       "Kingsport                    0.000769\n",
       "Lagrange                     0.000767\n",
       "Alton                        0.000767\n",
       "Tryon                        0.000763\n",
       "Hovland                      0.000763\n",
       "Falls City                   0.000760\n",
       "Burrton                      0.000750\n",
       "Clearwater                   0.000426\n",
       "Dublin                       0.000426\n",
       "Providence                   0.000424\n",
       "Huslia                       0.000416\n",
       "Sprague                      0.000416\n",
       "Curlew                       0.000415\n",
       "El Paso                      0.000415\n",
       "Vienna                       0.000415\n",
       "Pecos                        0.000414\n",
       "Old Hickory                  0.000414\n",
       "Winthrop                     0.000414\n",
       "Linthicum Heights            0.000413\n",
       "East Rochester               0.000413\n",
       "Gainesville                  0.000413\n",
       "Smithfield                   0.000413\n",
       "Maria Stein                  0.000412\n",
       "Jaffrey                      0.000411\n",
       "New Memphis                  0.000411\n",
       "Mc Intosh                    0.000411\n",
       "North Haverhill              0.000410\n",
       "Achille                      0.000410\n",
       "Prairie Creek                0.000410\n",
       "Tuscarora                    0.000410\n",
       "Brainard                     0.000409\n",
       "Benton                       0.000409\n",
       "Paris                        0.000409\n",
       "Dadeville                    0.000409\n",
       "Hazel                        0.000408\n",
       "Daniels                      0.000408\n",
       "Claremont                    0.000408\n",
       "Elk Rapids                   0.000408\n",
       "White Sulphur Springs        0.000408\n",
       "Pearlington                  0.000408\n",
       "Burns Flat                   0.000407\n",
       "Newton                       0.000407\n",
       "Fairhope                     0.000406\n",
       "Livonia                      0.000406\n",
       "Annapolis                    0.000405\n",
       "Saint Francis                0.000405\n",
       "Spring                       0.000405\n",
       "Yellowstone National Park    0.000405\n",
       "Galatia                      0.000405\n",
       "Clutier                      0.000404\n",
       "Dalton                       0.000404\n",
       "Williamsburg                 0.000404\n",
       "Monitor                      0.000404\n",
       "Oakford                      0.000404\n",
       "North Las Vegas              0.000404\n",
       "Skytop                       0.000403\n",
       "Powell Butte                 0.000403\n",
       "Odessa                       0.000403\n",
       "Knowlesville                 0.000403\n",
       "Preston                      0.000403\n",
       "Ironton                      0.000402\n",
       "Remer                        0.000402\n",
       "Damascus                     0.000402\n",
       "Emmons                       0.000402\n",
       "Sardis                       0.000402\n",
       "Bigelow                      0.000402\n",
       "Red Cliff                    0.000402\n",
       "Los Angeles                  0.000402\n",
       "Du Pont                      0.000402\n",
       "Jordan Valley                0.000402\n",
       "Cassatt                      0.000401\n",
       "De Queen                     0.000401\n",
       "New Goshen                   0.000401\n",
       "Cross                        0.000401\n",
       "Ravenna                      0.000401\n",
       "Kittery Point                0.000401\n",
       "Stoneham                     0.000400\n",
       "Paxton                       0.000400\n",
       "Newport                      0.000400\n",
       "Apison                       0.000400\n",
       "Washoe Valley                0.000400\n",
       "Boyd                         0.000400\n",
       "Springfield Gardens          0.000400\n",
       "West Long Branch             0.000400\n",
       "Ehrhardt                     0.000399\n",
       "Waynesfield                  0.000399\n",
       "Bonita Springs               0.000399\n",
       "Westfir                      0.000399\n",
       "West Chazy                   0.000399\n",
       "Ferney                       0.000399\n",
       "Dayton                       0.000399\n",
       "Omaha                        0.000399\n",
       "Greenbush                    0.000399\n",
       "Republic                     0.000398\n",
       "Hills                        0.000398\n",
       "Brashear                     0.000398\n",
       "Richland                     0.000398\n",
       "Williams                     0.000398\n",
       "Moscow                       0.000398\n",
       "Adams                        0.000398\n",
       "Arvada                       0.000397\n",
       "North Brookfield             0.000397\n",
       "Dexter                       0.000397\n",
       "Harmony                      0.000397\n",
       "Girard                       0.000396\n",
       "Wendel                       0.000396\n",
       "Woods Cross                  0.000396\n",
       "Etlan                        0.000396\n",
       "Rockwell                     0.000396\n",
       "Iselin                       0.000396\n",
       "Gaithersburg                 0.000396\n",
       "Port Saint Lucie             0.000396\n",
       "Kingsville                   0.000396\n",
       "Sunflower                    0.000395\n",
       "Liberty Mills                0.000395\n",
       "Putnam                       0.000395\n",
       "Aurora                       0.000395\n",
       "Akron                        0.000394\n",
       "Wittenberg                   0.000394\n",
       "Cardwell                     0.000394\n",
       "West Bethel                  0.000394\n",
       "Manquin                      0.000393\n",
       "Amorita                      0.000393\n",
       "Trenton                      0.000393\n",
       "Huntington Beach             0.000393\n",
       "Rosewood                     0.000393\n",
       "Marietta                     0.000393\n",
       "Mc Clellandtown              0.000393\n",
       "Parker                       0.000393\n",
       "Oakdale                      0.000393\n",
       "Bynum                        0.000393\n",
       "Premier                      0.000393\n",
       "Syracuse                     0.000393\n",
       "Valentine                    0.000392\n",
       "Louisiana                    0.000392\n",
       "Bethel                       0.000392\n",
       "Parker Dam                   0.000392\n",
       "Lepanto                      0.000391\n",
       "Hartford                     0.000391\n",
       "Palmdale                     0.000391\n",
       "San Angelo                   0.000390\n",
       "Spirit Lake                  0.000390\n",
       "Lorenzo                      0.000390\n",
       "Broomfield                   0.000389\n",
       "Hopewell                     0.000389\n",
       "Rock Glen                    0.000389\n",
       "Monetta                      0.000389\n",
       "Collegeville                 0.000389\n",
       "Riverview                    0.000389\n",
       "Dresden                      0.000389\n",
       "Howes Cave                   0.000389\n",
       "Whittemore                   0.000388\n",
       "Nokomis                      0.000388\n",
       "Moores Hill                  0.000388\n",
       "Bryant                       0.000388\n",
       "Malad City                   0.000388\n",
       "Desdemona                    0.000388\n",
       "Ragland                      0.000387\n",
       "Shedd                        0.000387\n",
       "Lamy                         0.000387\n",
       "Moriches                     0.000387\n",
       "Owensville                   0.000386\n",
       "Jay                          0.000386\n",
       "Azusa                        0.000386\n",
       "Chatham                      0.000386\n",
       "Vancouver                    0.000386\n",
       "Lane                         0.000385\n",
       "South Richmond Hill          0.000385\n",
       "Northport                    0.000384\n",
       "Garfield                     0.000383\n",
       "Loami                        0.000383\n",
       "Rossville                    0.000383\n",
       "Jackson                      0.000383\n",
       "Pea Ridge                    0.000382\n",
       "Palmyra                      0.000382\n",
       "Webster City                 0.000381\n",
       "Michigan                     0.000380\n",
       "Boulder                      0.000380\n",
       "Kings Bay                    0.000379\n",
       "Sea Island                   0.000379\n",
       "Thornville                   0.000379\n",
       "Loving                       0.000378\n",
       "Rochester                    0.000378\n",
       "New Franken                  0.000378\n",
       "Dell City                    0.000374\n",
       "Early                        0.000374\n",
       "Lithopolis                   0.000372\n",
       "De Lancey                    0.000371\n",
       "Humboldt                     0.000370\n",
       "Stittville                   0.000366\n",
       "West Finley                  0.000363\n",
       "Hubbell                      0.000015\n",
       "Melville                     0.000012\n",
       "Coulee Dam                   0.000012\n",
       "Queen Anne                   0.000010\n",
       "West Frankfort               0.000010\n",
       "Mineral                      0.000009\n",
       "Byesville                    0.000009\n",
       "Granbury                     0.000009\n",
       "Kaktovik                     0.000009\n",
       "Clinton                      0.000009\n",
       "La Grande                    0.000009\n",
       "Phelps                       0.000008\n",
       "Mount Vernon                 0.000008\n",
       "Beacon                       0.000008\n",
       "Walkertown                   0.000008\n",
       "Winnsboro                    0.000008\n",
       "Roland                       0.000008\n",
       "Wartburg                     0.000008\n",
       "Madisonville                 0.000008\n",
       "Angwin                       0.000008\n",
       "Marshall                     0.000008\n",
       "Isanti                       0.000008\n",
       "Seattle                      0.000008\n",
       "Nanuet                       0.000008\n",
       "Orange Park                  0.000008\n",
       "Moss Point                   0.000008\n",
       "Ridge Spring                 0.000008\n",
       "Ashland                      0.000008\n",
       "Waukau                       0.000008\n",
       "Downey                       0.000008\n",
       "Greenport                    0.000008\n",
       "Mountain City                0.000008\n",
       "Medford                      0.000007\n",
       "Lockhart                     0.000007\n",
       "Nicholson                    0.000007\n",
       "Brookfield                   0.000007\n",
       "East China                   0.000007\n",
       "Grenola                      0.000007\n",
       "Freeport                     0.000007\n",
       "North East                   0.000007\n",
       "Oakton                       0.000007\n",
       "Clarion                      0.000007\n",
       "Gaines                       0.000006\n",
       "Morven                       0.000006\n",
       "Noblesville                  0.000006\n",
       "Las Vegas                    0.000006\n",
       "Buellton                     0.000006\n",
       "Crouse                       0.000006\n",
       "Irvington                    0.000006\n",
       "Pleasant Hill                0.000006\n",
       "Wappapello                   0.000006\n",
       "Norfolk                      0.000005\n",
       "Streator                     0.000005\n",
       "Vacaville                    0.000005\n",
       "Claypool                     0.000005\n",
       "Karns City                   0.000005\n",
       "Bruce                        0.000005\n",
       "Chattanooga                  0.000005\n",
       "Name: city, dtype: float64"
      ]
     },
     "execution_count": 58,
     "metadata": {},
     "output_type": "execute_result"
    }
   ],
   "source": [
    "# City\n",
    "df_train['city'].value_counts(normalize=True)"
   ]
  },
  {
   "cell_type": "code",
   "execution_count": 82,
   "id": "3a21c885",
   "metadata": {},
   "outputs": [
    {
     "data": {
      "text/html": [
       "<div>\n",
       "<style scoped>\n",
       "    .dataframe tbody tr th:only-of-type {\n",
       "        vertical-align: middle;\n",
       "    }\n",
       "\n",
       "    .dataframe tbody tr th {\n",
       "        vertical-align: top;\n",
       "    }\n",
       "\n",
       "    .dataframe thead th {\n",
       "        text-align: right;\n",
       "    }\n",
       "</style>\n",
       "<table border=\"1\" class=\"dataframe\">\n",
       "  <thead>\n",
       "    <tr style=\"text-align: right;\">\n",
       "      <th></th>\n",
       "      <th>age</th>\n",
       "    </tr>\n",
       "  </thead>\n",
       "  <tbody>\n",
       "    <tr>\n",
       "      <th>count</th>\n",
       "      <td>1.29668e+06</td>\n",
       "    </tr>\n",
       "    <tr>\n",
       "      <th>mean</th>\n",
       "      <td>45.9999</td>\n",
       "    </tr>\n",
       "    <tr>\n",
       "      <th>std</th>\n",
       "      <td>17.3963</td>\n",
       "    </tr>\n",
       "    <tr>\n",
       "      <th>min</th>\n",
       "      <td>14</td>\n",
       "    </tr>\n",
       "    <tr>\n",
       "      <th>25%</th>\n",
       "      <td>33</td>\n",
       "    </tr>\n",
       "    <tr>\n",
       "      <th>50%</th>\n",
       "      <td>44</td>\n",
       "    </tr>\n",
       "    <tr>\n",
       "      <th>75%</th>\n",
       "      <td>57</td>\n",
       "    </tr>\n",
       "    <tr>\n",
       "      <th>max</th>\n",
       "      <td>96</td>\n",
       "    </tr>\n",
       "  </tbody>\n",
       "</table>\n",
       "</div>"
      ],
      "text/plain": [
       "               age\n",
       "count  1.29668e+06\n",
       "mean       45.9999\n",
       "std        17.3963\n",
       "min             14\n",
       "25%             33\n",
       "50%             44\n",
       "75%             57\n",
       "max             96"
      ]
     },
     "execution_count": 82,
     "metadata": {},
     "output_type": "execute_result"
    }
   ],
   "source": [
    "# Age\n",
    "age = pd.DataFrame(np.round((df_train['trans_date_trans_time'] - df_train['dob']) / np.timedelta64(1,'Y')), columns=['age'])\n",
    "age.astype({'age': 'int64'})\n",
    "age.describe().apply(lambda s: s.apply(lambda x: format(x, 'g')))"
   ]
  },
  {
   "cell_type": "code",
   "execution_count": 83,
   "id": "f6723856",
   "metadata": {},
   "outputs": [
    {
     "data": {
      "text/plain": [
       "<AxesSubplot:>"
      ]
     },
     "execution_count": 83,
     "metadata": {},
     "output_type": "execute_result"
    },
    {
     "data": {
      "image/png": "[encoded data removed]",
      "text/plain": [
       "<Figure size 432x288 with 1 Axes>"
      ]
     },
     "metadata": {
      "needs_background": "light"
     },
     "output_type": "display_data"
    }
   ],
   "source": [
    "age['age'].hist()"
   ]
  },
  {
   "cell_type": "code",
   "execution_count": null,
   "id": "09adb1f9",
   "metadata": {},
   "outputs": [],
   "source": [
    "# TODO: analisis AMT segun si es fraude o no"
   ]
  },
  {
   "cell_type": "code",
   "execution_count": 12,
   "id": "3a6cb311",
   "metadata": {},
   "outputs": [],
   "source": [
    "# Prediction"
   ]
  }
 ],
 "metadata": {
  "kernelspec": {
   "display_name": "Python 3 (ipykernel)",
   "language": "python",
   "name": "python3"
  },
  "language_info": {
   "codemirror_mode": {
    "name": "ipython",
    "version": 3
   },
   "file_extension": ".py",
   "mimetype": "text/x-python",
   "name": "python",
   "nbconvert_exporter": "python",
   "pygments_lexer": "ipython3",
   "version": "3.9.7"
  }
 },
 "nbformat": 4,
 "nbformat_minor": 5
}
