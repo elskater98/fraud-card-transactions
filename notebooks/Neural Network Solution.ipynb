{
 "cells": [
  {
   "cell_type": "code",
   "execution_count": 1,
   "id": "f1d33cd4",
   "metadata": {},
   "outputs": [],
   "source": [
    "# Imports\n",
    "# https://docs.fast.ai/tabular.data.html\n",
    "from fastai.tabular.all import *\n",
    "import pandas as pd\n",
    "import matplotlib.pyplot as plt\n",
    "import seaborn as sn"
   ]
  },
  {
   "cell_type": "code",
   "execution_count": 2,
   "id": "955c6648",
   "metadata": {},
   "outputs": [
    {
     "data": {
      "text/html": [
       "<div>\n",
       "<style scoped>\n",
       "    .dataframe tbody tr th:only-of-type {\n",
       "        vertical-align: middle;\n",
       "    }\n",
       "\n",
       "    .dataframe tbody tr th {\n",
       "        vertical-align: top;\n",
       "    }\n",
       "\n",
       "    .dataframe thead th {\n",
       "        text-align: right;\n",
       "    }\n",
       "</style>\n",
       "<table border=\"1\" class=\"dataframe\">\n",
       "  <thead>\n",
       "    <tr style=\"text-align: right;\">\n",
       "      <th></th>\n",
       "      <th>credit_card_num</th>\n",
       "      <th>shop</th>\n",
       "      <th>category</th>\n",
       "      <th>amount</th>\n",
       "      <th>gender</th>\n",
       "      <th>lat</th>\n",
       "      <th>long</th>\n",
       "      <th>city_pop</th>\n",
       "      <th>job</th>\n",
       "      <th>merch_lat</th>\n",
       "      <th>merch_long</th>\n",
       "      <th>is_fraud</th>\n",
       "      <th>age</th>\n",
       "    </tr>\n",
       "  </thead>\n",
       "  <tbody>\n",
       "    <tr>\n",
       "      <th>0</th>\n",
       "      <td>2703186189652095</td>\n",
       "      <td>fraud_Rippin, Kub and Mann</td>\n",
       "      <td>misc_net</td>\n",
       "      <td>4.97</td>\n",
       "      <td>F</td>\n",
       "      <td>36.0788</td>\n",
       "      <td>-81.1781</td>\n",
       "      <td>3495</td>\n",
       "      <td>Psychologist, counselling</td>\n",
       "      <td>36.011293</td>\n",
       "      <td>-82.048315</td>\n",
       "      <td>0</td>\n",
       "      <td>31</td>\n",
       "    </tr>\n",
       "    <tr>\n",
       "      <th>1</th>\n",
       "      <td>630423337322</td>\n",
       "      <td>fraud_Heller, Gutmann and Zieme</td>\n",
       "      <td>grocery_pos</td>\n",
       "      <td>107.23</td>\n",
       "      <td>F</td>\n",
       "      <td>48.8878</td>\n",
       "      <td>-118.2105</td>\n",
       "      <td>149</td>\n",
       "      <td>Special educational needs teacher</td>\n",
       "      <td>49.159047</td>\n",
       "      <td>-118.186462</td>\n",
       "      <td>0</td>\n",
       "      <td>41</td>\n",
       "    </tr>\n",
       "    <tr>\n",
       "      <th>2</th>\n",
       "      <td>38859492057661</td>\n",
       "      <td>fraud_Lind-Buckridge</td>\n",
       "      <td>entertainment</td>\n",
       "      <td>220.11</td>\n",
       "      <td>M</td>\n",
       "      <td>42.1808</td>\n",
       "      <td>-112.2620</td>\n",
       "      <td>4154</td>\n",
       "      <td>Nature conservation officer</td>\n",
       "      <td>43.150704</td>\n",
       "      <td>-112.154481</td>\n",
       "      <td>0</td>\n",
       "      <td>57</td>\n",
       "    </tr>\n",
       "    <tr>\n",
       "      <th>3</th>\n",
       "      <td>3534093764340240</td>\n",
       "      <td>fraud_Kutch, Hermiston and Farrell</td>\n",
       "      <td>gas_transport</td>\n",
       "      <td>45.00</td>\n",
       "      <td>M</td>\n",
       "      <td>46.2306</td>\n",
       "      <td>-112.1138</td>\n",
       "      <td>1939</td>\n",
       "      <td>Patent attorney</td>\n",
       "      <td>47.034331</td>\n",
       "      <td>-112.561071</td>\n",
       "      <td>0</td>\n",
       "      <td>52</td>\n",
       "    </tr>\n",
       "    <tr>\n",
       "      <th>4</th>\n",
       "      <td>375534208663984</td>\n",
       "      <td>fraud_Keeling-Crist</td>\n",
       "      <td>misc_pos</td>\n",
       "      <td>41.96</td>\n",
       "      <td>M</td>\n",
       "      <td>38.4207</td>\n",
       "      <td>-79.4629</td>\n",
       "      <td>99</td>\n",
       "      <td>Dance movement psychotherapist</td>\n",
       "      <td>38.674999</td>\n",
       "      <td>-78.632459</td>\n",
       "      <td>0</td>\n",
       "      <td>33</td>\n",
       "    </tr>\n",
       "  </tbody>\n",
       "</table>\n",
       "</div>"
      ],
      "text/plain": [
       "    credit_card_num                                shop       category  \\\n",
       "0  2703186189652095          fraud_Rippin, Kub and Mann       misc_net   \n",
       "1      630423337322     fraud_Heller, Gutmann and Zieme    grocery_pos   \n",
       "2    38859492057661                fraud_Lind-Buckridge  entertainment   \n",
       "3  3534093764340240  fraud_Kutch, Hermiston and Farrell  gas_transport   \n",
       "4   375534208663984                 fraud_Keeling-Crist       misc_pos   \n",
       "\n",
       "   amount gender      lat      long  city_pop  \\\n",
       "0    4.97      F  36.0788  -81.1781      3495   \n",
       "1  107.23      F  48.8878 -118.2105       149   \n",
       "2  220.11      M  42.1808 -112.2620      4154   \n",
       "3   45.00      M  46.2306 -112.1138      1939   \n",
       "4   41.96      M  38.4207  -79.4629        99   \n",
       "\n",
       "                                 job  merch_lat  merch_long  is_fraud  age  \n",
       "0          Psychologist, counselling  36.011293  -82.048315         0   31  \n",
       "1  Special educational needs teacher  49.159047 -118.186462         0   41  \n",
       "2        Nature conservation officer  43.150704 -112.154481         0   57  \n",
       "3                    Patent attorney  47.034331 -112.561071         0   52  \n",
       "4     Dance movement psychotherapist  38.674999  -78.632459         0   33  "
      ]
     },
     "execution_count": 2,
     "metadata": {},
     "output_type": "execute_result"
    }
   ],
   "source": [
    "# Read Data\n",
    "df_train = pd.read_csv(\"../data/clean_fraudTrain.csv\")\n",
    "df_test= pd.read_csv(\"../data/clean_fraudTest.csv\")\n",
    "df_train.head()"
   ]
  },
  {
   "cell_type": "code",
   "execution_count": 3,
   "id": "5a29a7a1",
   "metadata": {},
   "outputs": [],
   "source": [
    "# Set Variables according our dataset\n",
    "# Categorical\n",
    "\n",
    "cat_cols = ['shop','category', 'gender','job']\n",
    "# Continuous \n",
    "cont_cols = ['credit_card_num', 'amount','lat','long','city_pop','merch_lat','merch_long','age']\n",
    "\n",
    "# Target Value\n",
    "y_names = 'is_fraud'\n",
    "\n",
    "# Procedure List\n",
    "procs = [Categorify, Normalize] # We don't need to FillMissing values because our dataset was clened before."
   ]
  },
  {
   "cell_type": "code",
   "execution_count": 4,
   "id": "01b2f4fa",
   "metadata": {},
   "outputs": [],
   "source": [
    "# Create TabularDataLoader using train dataframe and the target \"is_fraud\"\n",
    "dls = TabularDataLoaders.from_df(df_train, path='.', y_names=\"is_fraud\",  \n",
    "                                 cat_names = cat_cols, \n",
    "                                 cont_names = cont_cols, \n",
    "                                 procs=procs, \n",
    "                                 y_block = CategoryBlock())"
   ]
  },
  {
   "cell_type": "code",
   "execution_count": 5,
   "id": "76f398af",
   "metadata": {},
   "outputs": [],
   "source": [
    "# Metrics used: Accuracy Error Rate Recall Precision\n",
    "tab_learn = tabular_learner(dls, layers=[200], metrics=[accuracy, error_rate, Recall(), Precision()])"
   ]
  },
  {
   "cell_type": "code",
   "execution_count": 6,
   "id": "239ce8cc",
   "metadata": {},
   "outputs": [
    {
     "data": {
      "text/html": [],
      "text/plain": [
       "<IPython.core.display.HTML object>"
      ]
     },
     "metadata": {},
     "output_type": "display_data"
    },
    {
     "data": {
      "text/plain": [
       "SuggestedLRs(valley=0.00363078061491251)"
      ]
     },
     "execution_count": 6,
     "metadata": {},
     "output_type": "execute_result"
    },
    {
     "data": {
      "image/png": "[encoded data removed]",
      "text/plain": [
       "<Figure size 432x288 with 1 Axes>"
      ]
     },
     "metadata": {
      "needs_background": "light"
     },
     "output_type": "display_data"
    }
   ],
   "source": [
    "# Plot Learning Rate\n",
    "tab_learn.lr_find()"
   ]
  },
  {
   "cell_type": "code",
   "execution_count": 7,
   "id": "27cb482c",
   "metadata": {},
   "outputs": [
    {
     "data": {
      "text/html": [
       "<table border=\"1\" class=\"dataframe\">\n",
       "  <thead>\n",
       "    <tr style=\"text-align: left;\">\n",
       "      <th>epoch</th>\n",
       "      <th>train_loss</th>\n",
       "      <th>valid_loss</th>\n",
       "      <th>accuracy</th>\n",
       "      <th>error_rate</th>\n",
       "      <th>recall_score</th>\n",
       "      <th>precision_score</th>\n",
       "      <th>time</th>\n",
       "    </tr>\n",
       "  </thead>\n",
       "  <tbody>\n",
       "    <tr>\n",
       "      <td>0</td>\n",
       "      <td>0.017924</td>\n",
       "      <td>0.029141</td>\n",
       "      <td>0.993938</td>\n",
       "      <td>0.006062</td>\n",
       "      <td>0.049092</td>\n",
       "      <td>0.316017</td>\n",
       "      <td>03:33</td>\n",
       "    </tr>\n",
       "    <tr>\n",
       "      <td>1</td>\n",
       "      <td>0.015386</td>\n",
       "      <td>0.039364</td>\n",
       "      <td>0.995253</td>\n",
       "      <td>0.004747</td>\n",
       "      <td>0.408877</td>\n",
       "      <td>0.633333</td>\n",
       "      <td>02:48</td>\n",
       "    </tr>\n",
       "    <tr>\n",
       "      <td>2</td>\n",
       "      <td>0.008491</td>\n",
       "      <td>0.050246</td>\n",
       "      <td>0.995338</td>\n",
       "      <td>0.004662</td>\n",
       "      <td>0.369872</td>\n",
       "      <td>0.669100</td>\n",
       "      <td>02:43</td>\n",
       "    </tr>\n",
       "  </tbody>\n",
       "</table>"
      ],
      "text/plain": [
       "<IPython.core.display.HTML object>"
      ]
     },
     "metadata": {},
     "output_type": "display_data"
    }
   ],
   "source": [
    "# Fit our model\n",
    "tab_learn.fit_one_cycle(3)"
   ]
  },
  {
   "cell_type": "code",
   "execution_count": 8,
   "id": "27732162",
   "metadata": {},
   "outputs": [
    {
     "data": {
      "image/png": "[encoded data removed]",
      "text/plain": [
       "<Figure size 432x288 with 1 Axes>"
      ]
     },
     "metadata": {
      "needs_background": "light"
     },
     "output_type": "display_data"
    }
   ],
   "source": [
    "# Plot the learning rate vs loss\n",
    "tab_learn.recorder.plot_loss()"
   ]
  },
  {
   "cell_type": "code",
   "execution_count": 9,
   "id": "8febe3ac",
   "metadata": {},
   "outputs": [
    {
     "data": {
      "text/html": [],
      "text/plain": [
       "<IPython.core.display.HTML object>"
      ]
     },
     "metadata": {},
     "output_type": "display_data"
    },
    {
     "data": {
      "image/png": "[encoded data removed]",
      "text/plain": [
       "<Figure size 432x288 with 1 Axes>"
      ]
     },
     "metadata": {
      "needs_background": "light"
     },
     "output_type": "display_data"
    }
   ],
   "source": [
    "# Correlation Matrix of the learning model\n",
    "interpret = ClassificationInterpretation.from_learner(tab_learn)\n",
    "interpret.plot_confusion_matrix()"
   ]
  },
  {
   "cell_type": "code",
   "execution_count": 10,
   "id": "0139ff60",
   "metadata": {},
   "outputs": [
    {
     "name": "stdout",
     "output_type": "stream",
     "text": [
      "              precision    recall  f1-score   support\n",
      "\n",
      "           0       1.00      1.00      1.00    257848\n",
      "           1       0.67      0.37      0.48      1487\n",
      "\n",
      "    accuracy                           1.00    259335\n",
      "   macro avg       0.83      0.68      0.74    259335\n",
      "weighted avg       0.99      1.00      0.99    259335\n",
      "\n"
     ]
    }
   ],
   "source": [
    "# General report\n",
    "interpret.print_classification_report()"
   ]
  },
  {
   "cell_type": "code",
   "execution_count": 11,
   "id": "889a4662",
   "metadata": {},
   "outputs": [
    {
     "data": {
      "text/html": [
       "<table border=\"1\" class=\"dataframe\">\n",
       "  <thead>\n",
       "    <tr style=\"text-align: right;\">\n",
       "      <th></th>\n",
       "      <th>shop</th>\n",
       "      <th>category</th>\n",
       "      <th>gender</th>\n",
       "      <th>job</th>\n",
       "      <th>credit_card_num</th>\n",
       "      <th>amount</th>\n",
       "      <th>lat</th>\n",
       "      <th>long</th>\n",
       "      <th>city_pop</th>\n",
       "      <th>merch_lat</th>\n",
       "      <th>merch_long</th>\n",
       "      <th>age</th>\n",
       "      <th>is_fraud</th>\n",
       "    </tr>\n",
       "  </thead>\n",
       "  <tbody>\n",
       "    <tr>\n",
       "      <th>0</th>\n",
       "      <td>fraud_Kirlin and Sons</td>\n",
       "      <td>personal_care</td>\n",
       "      <td>M</td>\n",
       "      <td>Mechanical engineer</td>\n",
       "      <td>2.291153e+15</td>\n",
       "      <td>2.860000</td>\n",
       "      <td>33.9659</td>\n",
       "      <td>-80.935500</td>\n",
       "      <td>333497.000397</td>\n",
       "      <td>33.986391</td>\n",
       "      <td>-81.200714</td>\n",
       "      <td>52.000000</td>\n",
       "      <td>0</td>\n",
       "    </tr>\n",
       "    <tr>\n",
       "      <th>1</th>\n",
       "      <td>fraud_Sporer-Keebler</td>\n",
       "      <td>personal_care</td>\n",
       "      <td>F</td>\n",
       "      <td>Sales professional, IT</td>\n",
       "      <td>3.573019e+15</td>\n",
       "      <td>29.840000</td>\n",
       "      <td>40.3207</td>\n",
       "      <td>-110.436001</td>\n",
       "      <td>301.997946</td>\n",
       "      <td>39.450498</td>\n",
       "      <td>-109.960431</td>\n",
       "      <td>30.000000</td>\n",
       "      <td>0</td>\n",
       "    </tr>\n",
       "    <tr>\n",
       "      <th>2</th>\n",
       "      <td>fraud_Swaniawski, Nitzsche and Welch</td>\n",
       "      <td>health_fitness</td>\n",
       "      <td>F</td>\n",
       "      <td>Librarian, public</td>\n",
       "      <td>3.598222e+15</td>\n",
       "      <td>41.280000</td>\n",
       "      <td>40.6729</td>\n",
       "      <td>-73.536500</td>\n",
       "      <td>34496.002001</td>\n",
       "      <td>40.495810</td>\n",
       "      <td>-74.196111</td>\n",
       "      <td>50.000000</td>\n",
       "      <td>0</td>\n",
       "    </tr>\n",
       "    <tr>\n",
       "      <th>3</th>\n",
       "      <td>fraud_Haley Group</td>\n",
       "      <td>misc_pos</td>\n",
       "      <td>M</td>\n",
       "      <td>Set designer</td>\n",
       "      <td>3.591902e+15</td>\n",
       "      <td>60.050000</td>\n",
       "      <td>28.5697</td>\n",
       "      <td>-80.819100</td>\n",
       "      <td>54767.000260</td>\n",
       "      <td>28.812398</td>\n",
       "      <td>-80.883061</td>\n",
       "      <td>33.000000</td>\n",
       "      <td>0</td>\n",
       "    </tr>\n",
       "    <tr>\n",
       "      <th>4</th>\n",
       "      <td>fraud_Johnston-Casper</td>\n",
       "      <td>travel</td>\n",
       "      <td>M</td>\n",
       "      <td>Furniture designer</td>\n",
       "      <td>3.526825e+15</td>\n",
       "      <td>3.190000</td>\n",
       "      <td>44.2529</td>\n",
       "      <td>-85.017000</td>\n",
       "      <td>1126.004188</td>\n",
       "      <td>44.959148</td>\n",
       "      <td>-85.884734</td>\n",
       "      <td>64.999999</td>\n",
       "      <td>0</td>\n",
       "    </tr>\n",
       "    <tr>\n",
       "      <th>5</th>\n",
       "      <td>fraud_Daugherty LLC</td>\n",
       "      <td>kids_pets</td>\n",
       "      <td>F</td>\n",
       "      <td>Psychotherapist</td>\n",
       "      <td>3.040884e+13</td>\n",
       "      <td>19.549998</td>\n",
       "      <td>42.1939</td>\n",
       "      <td>-76.736100</td>\n",
       "      <td>519.999160</td>\n",
       "      <td>41.747157</td>\n",
       "      <td>-77.584197</td>\n",
       "      <td>29.000000</td>\n",
       "      <td>0</td>\n",
       "    </tr>\n",
       "    <tr>\n",
       "      <th>6</th>\n",
       "      <td>fraud_Romaguera Ltd</td>\n",
       "      <td>health_fitness</td>\n",
       "      <td>F</td>\n",
       "      <td>Therapist, occupational</td>\n",
       "      <td>2.131926e+14</td>\n",
       "      <td>133.930001</td>\n",
       "      <td>40.5070</td>\n",
       "      <td>-123.974300</td>\n",
       "      <td>1139.003063</td>\n",
       "      <td>41.499458</td>\n",
       "      <td>-124.888727</td>\n",
       "      <td>68.999999</td>\n",
       "      <td>0</td>\n",
       "    </tr>\n",
       "    <tr>\n",
       "      <th>7</th>\n",
       "      <td>fraud_Reichel LLC</td>\n",
       "      <td>personal_care</td>\n",
       "      <td>F</td>\n",
       "      <td>Development worker, international aid</td>\n",
       "      <td>3.589288e+15</td>\n",
       "      <td>10.370002</td>\n",
       "      <td>43.7557</td>\n",
       "      <td>-97.593600</td>\n",
       "      <td>343.002014</td>\n",
       "      <td>44.495498</td>\n",
       "      <td>-97.728453</td>\n",
       "      <td>48.000000</td>\n",
       "      <td>0</td>\n",
       "    </tr>\n",
       "    <tr>\n",
       "      <th>8</th>\n",
       "      <td>fraud_Goyette, Howell and Collier</td>\n",
       "      <td>shopping_pos</td>\n",
       "      <td>M</td>\n",
       "      <td>Advice worker</td>\n",
       "      <td>3.596350e+15</td>\n",
       "      <td>4.369998</td>\n",
       "      <td>41.0001</td>\n",
       "      <td>-78.235700</td>\n",
       "      <td>3687.997814</td>\n",
       "      <td>41.546067</td>\n",
       "      <td>-78.120238</td>\n",
       "      <td>47.000000</td>\n",
       "      <td>0</td>\n",
       "    </tr>\n",
       "    <tr>\n",
       "      <th>9</th>\n",
       "      <td>fraud_Kilback Group</td>\n",
       "      <td>food_dining</td>\n",
       "      <td>F</td>\n",
       "      <td>Barrister</td>\n",
       "      <td>3.546879e+15</td>\n",
       "      <td>66.540000</td>\n",
       "      <td>31.6591</td>\n",
       "      <td>-96.809400</td>\n",
       "      <td>263.001321</td>\n",
       "      <td>31.782919</td>\n",
       "      <td>-96.366185</td>\n",
       "      <td>64.000000</td>\n",
       "      <td>0</td>\n",
       "    </tr>\n",
       "  </tbody>\n",
       "</table>"
      ],
      "text/plain": [
       "<IPython.core.display.HTML object>"
      ]
     },
     "metadata": {},
     "output_type": "display_data"
    }
   ],
   "source": [
    "# Init Test DL\n",
    "test_dl = tab_learn.dls.test_dl(df_test)\n",
    "test_dl.show_batch()"
   ]
  },
  {
   "cell_type": "code",
   "execution_count": 12,
   "id": "e54adc93",
   "metadata": {},
   "outputs": [
    {
     "data": {
      "text/html": [],
      "text/plain": [
       "<IPython.core.display.HTML object>"
      ]
     },
     "metadata": {},
     "output_type": "display_data"
    }
   ],
   "source": [
    "# Predict test dataframe\n",
    "preds, test_labels = tab_learn.get_preds(dl=test_dl)"
   ]
  },
  {
   "cell_type": "code",
   "execution_count": 13,
   "id": "3b85e831",
   "metadata": {},
   "outputs": [],
   "source": [
    "# Adjust prediction target to binary\n",
    "final_preds = preds.numpy()\n",
    "final_preds = np.argmax(final_preds, axis=1)"
   ]
  },
  {
   "cell_type": "code",
   "execution_count": 14,
   "id": "9c3b3ef7",
   "metadata": {},
   "outputs": [],
   "source": [
    "# Adding predicted target column\n",
    "res = df_test.copy(deep=True)\n",
    "res['is_fraud_pred'] = final_preds"
   ]
  },
  {
   "cell_type": "code",
   "execution_count": 15,
   "id": "b6b82d65",
   "metadata": {},
   "outputs": [
    {
     "data": {
      "image/png": "[encoded data removed]",
      "text/plain": [
       "<Figure size 432x288 with 2 Axes>"
      ]
     },
     "metadata": {
      "needs_background": "light"
     },
     "output_type": "display_data"
    }
   ],
   "source": [
    "# Generate confusion matrix of testing model\n",
    "confusion_matrix = pd.crosstab(res['is_fraud'], res['is_fraud_pred'], rownames=['Actual'], colnames=['Predicted'])\n",
    "\n",
    "ax = sn.heatmap(confusion_matrix, annot=True, cmap='Blues')\n",
    "ax.set_xlabel('\\nPredicted Values')\n",
    "ax.set_ylabel('Actual Values ');\n",
    "\n",
    "# Ticket labels - List must be in alphabetical order\n",
    "ax.xaxis.set_ticklabels(['False', 'True'])\n",
    "ax.yaxis.set_ticklabels(['False', 'True'])\n",
    "\n",
    "# Display the visualization of the Confusion Matrix.\n",
    "plt.show()"
   ]
  }
 ],
 "metadata": {
  "kernelspec": {
   "display_name": "Python 3 (ipykernel)",
   "language": "python",
   "name": "python3"
  },
  "language_info": {
   "codemirror_mode": {
    "name": "ipython",
    "version": 3
   },
   "file_extension": ".py",
   "mimetype": "text/x-python",
   "name": "python",
   "nbconvert_exporter": "python",
   "pygments_lexer": "ipython3",
   "version": "3.9.7"
  }
 },
 "nbformat": 4,
 "nbformat_minor": 5
}
