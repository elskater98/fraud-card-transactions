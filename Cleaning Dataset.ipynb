{
 "cells": [
  {
   "cell_type": "code",
   "execution_count": 1,
   "id": "74108695",
   "metadata": {},
   "outputs": [
    {
     "name": "stdout",
     "output_type": "stream",
     "text": [
      "Warning: Your Kaggle API key is readable by other users on this system! To fix this, you can run 'chmod 600 /home/francesc/.kaggle/kaggle.json'\n"
     ]
    }
   ],
   "source": [
    "# Libraries\n",
    "import kaggle\n",
    "import os\n",
    "import pandas as pd\n",
    "import plotly.express as px\n",
    "import numpy as np\n",
    "import matplotlib.pyplot as plt"
   ]
  },
  {
   "cell_type": "code",
   "execution_count": 2,
   "id": "ab863584",
   "metadata": {},
   "outputs": [],
   "source": [
    "# Additional settings\n",
    "pd.set_option('display.max_columns', None)\n",
    "pd.set_option('display.max_rows', 25)"
   ]
  },
  {
   "cell_type": "code",
   "execution_count": 3,
   "id": "3a7e09ad",
   "metadata": {},
   "outputs": [],
   "source": [
    "# Download Dataset using Kaggle API Key\n",
    "# Requirements: Kaggle API key\n",
    "if not os.path.isfile(\"data/fraudTrain.csv\") or not os.path.isfile(\"data/fraudTest.csv\"):\n",
    "    kaggle.api.authenticate()\n",
    "    kaggle.api.dataset_download_files('kartik2112/fraud-detection', path='./data', unzip=True)"
   ]
  },
  {
   "cell_type": "code",
   "execution_count": 4,
   "id": "2eec6845",
   "metadata": {},
   "outputs": [],
   "source": [
    "# Dataset Analysis\n",
    "df_train = pd.read_csv('data/fraudTrain.csv', index_col=0)\n",
    "df_test = pd.read_csv('data/fraudTest.csv', index_col=0)"
   ]
  },
  {
   "cell_type": "code",
   "execution_count": 5,
   "id": "9c0d69bc",
   "metadata": {},
   "outputs": [],
   "source": [
    "# Cast Data\n",
    "\n",
    "# Datetime\n",
    "# Train\n",
    "df_train['trans_date_trans_time'] = pd.to_datetime(df_train['trans_date_trans_time'], errors='ignore')\n",
    "df_train['dob'] = pd.to_datetime(df_train['dob'], errors='ignore') # day of birth\n",
    "\n",
    "# Test\n",
    "df_test['trans_date_trans_time'] = pd.to_datetime(df_test['trans_date_trans_time'], errors='ignore')\n",
    "df_test['dob'] = pd.to_datetime(df_test['dob'], errors='ignore')"
   ]
  },
  {
   "cell_type": "code",
   "execution_count": 6,
   "id": "ea538c32",
   "metadata": {},
   "outputs": [],
   "source": [
    "# Reduce dimension\n",
    "drop_columns = [\"first\",\"last\",\"street\",\"city\",\"state\",\n",
    "                \"zip\",\"trans_num\",\"unix_time\"]\n",
    "df_train.drop(columns=drop_columns, inplace=True)\n",
    "df_test.drop(columns=drop_columns, inplace=True)"
   ]
  },
  {
   "cell_type": "code",
   "execution_count": 8,
   "id": "fb1d6d34",
   "metadata": {},
   "outputs": [],
   "source": [
    "# Calculate Age\n",
    "df_train['age'] = np.round((df_train['trans_date_trans_time'] - df_train['dob']) / np.timedelta64(1,'Y'))\n",
    "df_train = df_train.astype({'age': 'int64'})\n",
    "\n",
    "df_test['age'] = np.round((df_test['trans_date_trans_time'] - df_test['dob']) / np.timedelta64(1,'Y'))\n",
    "df_test = df_test.astype({'age': 'int64'})\n",
    "\n",
    "drop_columns = [\"dob\"]\n",
    "\n",
    "df_train.drop(columns=drop_columns, inplace=True)\n",
    "df_test.drop(columns=drop_columns, inplace=True)"
   ]
  },
  {
   "cell_type": "code",
   "execution_count": 12,
   "id": "b2df6e58",
   "metadata": {},
   "outputs": [],
   "source": [
    "# Rename Columns\n",
    "df_train.head()\n",
    "trans_dict = {\"trans_date_trans_time\":\"timestamp\",\"cc_num\":\"credit_card_num\",\"merchant\":\"shop\",\n",
    "             \"amt\":\"amount\"}\n",
    "df_train.rename(columns=trans_dict, inplace=True)\n",
    "df_test.rename(columns=trans_dict, inplace=True)"
   ]
  },
  {
   "cell_type": "code",
   "execution_count": 14,
   "id": "4612d2c8",
   "metadata": {},
   "outputs": [],
   "source": [
    "# Save clean dataset\n",
    "df_train.to_csv(\"data/clean_fraudTrain.csv\")\n",
    "df_test.to_csv(\"data/clean_fraudTest.csv\")"
   ]
  }
 ],
 "metadata": {
  "kernelspec": {
   "display_name": "Python 3 (ipykernel)",
   "language": "python",
   "name": "python3"
  },
  "language_info": {
   "codemirror_mode": {
    "name": "ipython",
    "version": 3
   },
   "file_extension": ".py",
   "mimetype": "text/x-python",
   "name": "python",
   "nbconvert_exporter": "python",
   "pygments_lexer": "ipython3",
   "version": "3.9.7"
  }
 },
 "nbformat": 4,
 "nbformat_minor": 5
}
