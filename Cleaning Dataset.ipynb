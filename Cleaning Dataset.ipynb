{
 "cells": [
  {
   "cell_type": "markdown",
   "id": "quMy8YBOytzN",
   "metadata": {
    "id": "quMy8YBOytzN"
   },
   "source": [
    "# Step 2: Dataset cleaning"
   ]
  },
  {
   "cell_type": "markdown",
   "id": "P0xoDDNfywzx",
   "metadata": {
    "id": "P0xoDDNfywzx"
   },
   "source": [
    "## Setting up the environment"
   ]
  },
  {
   "cell_type": "markdown",
   "id": "kca9frCjziAM",
   "metadata": {
    "id": "kca9frCjziAM"
   },
   "source": [
    "We start by loading the required libraries:"
   ]
  },
  {
   "cell_type": "code",
   "execution_count": 1,
   "id": "74108695",
   "metadata": {
    "id": "74108695"
   },
   "outputs": [
    {
     "name": "stdout",
     "output_type": "stream",
     "text": [
      "Warning: Your Kaggle API key is readable by other users on this system! To fix this, you can run 'chmod 600 /home/francesc/.kaggle/kaggle.json'\n"
     ]
    }
   ],
   "source": [
    "import kaggle\n",
    "import os\n",
    "import pandas as pd\n",
    "import plotly.express as px\n",
    "import numpy as np\n",
    "import matplotlib.pyplot as plt"
   ]
  },
  {
   "cell_type": "markdown",
   "id": "0J77w8Zwzrpm",
   "metadata": {
    "id": "0J77w8Zwzrpm"
   },
   "source": [
    "We set the max rows and columns for display:"
   ]
  },
  {
   "cell_type": "code",
   "execution_count": 2,
   "id": "ab863584",
   "metadata": {
    "id": "ab863584"
   },
   "outputs": [],
   "source": [
    "pd.set_option('display.max_columns', None)\n",
    "pd.set_option('display.max_rows', 25)"
   ]
  },
  {
   "cell_type": "markdown",
   "id": "jQPBS42T-k3X",
   "metadata": {
    "id": "jQPBS42T-k3X"
   },
   "source": [
    "## Loading the data"
   ]
  },
  {
   "cell_type": "markdown",
   "id": "6s1cQ195zyj6",
   "metadata": {
    "id": "6s1cQ195zyj6"
   },
   "source": [
    "We download the dataset using the Kaggle API which requires us to have an API key:"
   ]
  },
  {
   "cell_type": "code",
   "execution_count": 3,
   "id": "3a7e09ad",
   "metadata": {
    "id": "3a7e09ad"
   },
   "outputs": [],
   "source": [
    "if not os.path.isfile(\"data/fraudTrain.csv\") or not os.path.isfile(\"data/fraudTest.csv\"):\n",
    "    kaggle.api.authenticate()\n",
    "    kaggle.api.dataset_download_files('kartik2112/fraud-detection', path='./data', unzip=True)"
   ]
  },
  {
   "cell_type": "markdown",
   "id": "BP-WKrYYz4NK",
   "metadata": {
    "id": "BP-WKrYYz4NK"
   },
   "source": [
    "We read both datasets (train and test):"
   ]
  },
  {
   "cell_type": "code",
   "execution_count": 4,
   "id": "2eec6845",
   "metadata": {
    "id": "2eec6845"
   },
   "outputs": [],
   "source": [
    "df_train = pd.read_csv('data/fraudTrain.csv', index_col=0)\n",
    "df_test = pd.read_csv('data/fraudTest.csv', index_col=0)"
   ]
  },
  {
   "cell_type": "markdown",
   "id": "cCxO8FMx-pj9",
   "metadata": {
    "id": "cCxO8FMx-pj9"
   },
   "source": [
    "## Cleaning the data"
   ]
  },
  {
   "cell_type": "markdown",
   "id": "CQQQqDPm9sLQ",
   "metadata": {
    "id": "CQQQqDPm9sLQ"
   },
   "source": [
    "We cast the time-related values to `Datetime`:"
   ]
  },
  {
   "cell_type": "code",
   "execution_count": 5,
   "id": "9c0d69bc",
   "metadata": {
    "id": "9c0d69bc"
   },
   "outputs": [],
   "source": [
    "# Train\n",
    "df_train['trans_date_trans_time'] = pd.to_datetime(df_train['trans_date_trans_time'], errors='ignore')\n",
    "df_train['dob'] = pd.to_datetime(df_train['dob'], errors='ignore') # day of birth\n",
    "\n",
    "# Test\n",
    "df_test['trans_date_trans_time'] = pd.to_datetime(df_test['trans_date_trans_time'], errors='ignore')\n",
    "df_test['dob'] = pd.to_datetime(df_test['dob'], errors='ignore')"
   ]
  },
  {
   "cell_type": "markdown",
   "id": "ARusF_GWz-q-",
   "metadata": {
    "id": "ARusF_GWz-q-"
   },
   "source": [
    "We drop irrelevant or redundant data since we already have geolocation and time data contained in other values, thus reducing its dimension:"
   ]
  },
  {
   "cell_type": "code",
   "execution_count": 6,
   "id": "ea538c32",
   "metadata": {
    "id": "ea538c32"
   },
   "outputs": [],
   "source": [
    "drop_columns = [\"first\",\"last\",\"street\",\"city\",\"state\",\n",
    "                \"zip\",\"trans_num\",\"unix_time\"]\n",
    "df_train.drop(columns=drop_columns, inplace=True)\n",
    "df_test.drop(columns=drop_columns, inplace=True)"
   ]
  },
  {
   "cell_type": "markdown",
   "id": "8qnzXEn00Ffo",
   "metadata": {
    "id": "8qnzXEn00Ffo"
   },
   "source": [
    "We do the calculus of the age of each card user by subtracting the birthdate to the current year:"
   ]
  },
  {
   "cell_type": "code",
   "execution_count": 7,
   "id": "fb1d6d34",
   "metadata": {
    "id": "fb1d6d34"
   },
   "outputs": [],
   "source": [
    "df_train['age'] = np.round((df_train['trans_date_trans_time'] - df_train['dob']) / np.timedelta64(1,'Y'))\n",
    "df_train = df_train.astype({'age': 'int64'})\n",
    "\n",
    "df_test['age'] = np.round((df_test['trans_date_trans_time'] - df_test['dob']) / np.timedelta64(1,'Y'))\n",
    "df_test = df_test.astype({'age': 'int64'})\n",
    "\n",
    "drop_columns = [\"dob\"]\n",
    "\n",
    "df_train.drop(columns=drop_columns, inplace=True)\n",
    "df_test.drop(columns=drop_columns, inplace=True)"
   ]
  },
  {
   "cell_type": "markdown",
   "id": "Dc2ATGOu0L3F",
   "metadata": {
    "id": "Dc2ATGOu0L3F"
   },
   "source": [
    "We rename the columns for displaying purposes:"
   ]
  },
  {
   "cell_type": "code",
   "execution_count": 8,
   "id": "b2df6e58",
   "metadata": {
    "id": "b2df6e58"
   },
   "outputs": [],
   "source": [
    "df_train.head()\n",
    "trans_dict = {\"trans_date_trans_time\":\"timestamp\",\"cc_num\":\"credit_card_num\",\"merchant\":\"shop\",\n",
    "             \"amt\":\"amount\"}\n",
    "df_train.rename(columns=trans_dict, inplace=True)\n",
    "df_test.rename(columns=trans_dict, inplace=True)"
   ]
  },
  {
   "cell_type": "markdown",
   "id": "UW6byHjA-vJh",
   "metadata": {
    "id": "UW6byHjA-vJh"
   },
   "source": [
    "## Saving the results"
   ]
  },
  {
   "cell_type": "markdown",
   "id": "Mr6G3Lxr0QEm",
   "metadata": {
    "id": "Mr6G3Lxr0QEm"
   },
   "source": [
    "We save the resulting clean dataset:"
   ]
  },
  {
   "cell_type": "code",
   "execution_count": 9,
   "id": "4612d2c8",
   "metadata": {
    "id": "4612d2c8"
   },
   "outputs": [],
   "source": [
    "df_train.to_csv(\"data/clean_fraudTrain.csv\",index=False)\n",
    "df_test.to_csv(\"data/clean_fraudTest.csv\",index=False)"
   ]
  }
 ],
 "metadata": {
  "colab": {
   "name": "Cleaning Dataset.ipynb",
   "provenance": []
  },
  "kernelspec": {
   "display_name": "Python 3 (ipykernel)",
   "language": "python",
   "name": "python3"
  },
  "language_info": {
   "codemirror_mode": {
    "name": "ipython",
    "version": 3
   },
   "file_extension": ".py",
   "mimetype": "text/x-python",
   "name": "python",
   "nbconvert_exporter": "python",
   "pygments_lexer": "ipython3",
   "version": "3.9.7"
  }
 },
 "nbformat": 4,
 "nbformat_minor": 5
}